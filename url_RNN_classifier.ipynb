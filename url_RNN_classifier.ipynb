{
 "cells": [
  {
   "cell_type": "code",
   "execution_count": 1,
   "metadata": {
    "collapsed": true
   },
   "outputs": [
    {
     "name": "stdout",
     "output_type": "stream",
     "text": [
      "True\n"
     ]
    }
   ],
   "source": [
    "import copy\n",
    "import torch\n",
    "import torch.nn as nn\n",
    "import pandas as pd\n",
    "import numpy as np\n",
    "from sklearn.model_selection import train_test_split\n",
    "from sklearn.metrics import ConfusionMatrixDisplay, confusion_matrix\n",
    "\n",
    "from matplotlib import pyplot as plt\n",
    "from datetime import datetime\n",
    "from tqdm import tqdm\n",
    "\n",
    "from torch.nn import Embedding, LSTM\n",
    "from torch.nn.utils.rnn import pack_padded_sequence\n",
    "\n",
    "# Device configuration\n",
    "cuda = False\n",
    "if torch.cuda.is_available():\n",
    "    cuda=True\n",
    "\n",
    "print(cuda)\n",
    "torch.set_printoptions(threshold=1000)\n"
   ]
  },
  {
   "cell_type": "code",
   "execution_count": 22,
   "outputs": [
    {
     "name": "stdout",
     "output_type": "stream",
     "text": [
      "[['http://1337x.to/torrent/1048648/American-Sniper-2014-MD-iTALiAN-DVDSCR-X264-BST-MT/'\n",
      "  0]\n",
      " ['http://1337x.to/torrent/1110018/Blackhat-2015-RUSSIAN-720p-WEB-DL-DD5-1-H264-RUFGT/'\n",
      "  0]\n",
      " ['http://1337x.to/torrent/1122940/Blackhat-2015-x264-1080p-WEB-DL-eng-nl-subs-sharky/'\n",
      "  0]\n",
      " ...\n",
      " ['https://lastpass.com/signup2.php?ac=1&from_uri=%2Fsignup2.php%3Fac%3D1%26from_uri%3D%252Fsignup2.php%253Fac%253D1%2526from_uri%253D%25252Fsignup2.php%25253Fac%25253D1%252526from_uri%25253D%2525252Fsignup2.php%2525253Fac%2525253D1%25252526from_uri%2525253D%252525252Fsignup2.php%252525253Fac%252525253D1%2525252526from_uri%252525253D%25252525252Fsignup2.php%25252525253Fac%25252525253D1%252525252526from_uri%25252525253D%2525252525252Fsignup2.php%2525252525253Fac%2525252525253D1%25252525252526from_uri%2525252525253D%252525252525252Fsignup2.php%252525252525253Fac%252525252525253D1%2525252525252526from_uri%252525252525253D%25252525252525252Fsignup2.php%25252525252525253Fac%25252525252525253D1%252525252525252526from_uri%25252525252525253D%2525252525252525252Fsignup2.php%2525252525252525253Fac%2525252525252525253D1%25252525252525252526from_uri%2525252525252525253D%252525252525252525252Fsignup2.php%252525252525252525253Fac%252525252525252525253D1%2525252525252525252526from_uri%252525252525252525253D%25252525252525252525252Fsignup2.php%25252525252525252525253Fac%25252525252525252525253D1%252525252525252525252526from_uri%25252525252525252525253D%2525252525252525252525252Fsignup2.php%2525252525252525252525253Fac%2525252525252525252525253D1%25252525252525252525252526from_uri%2525252525252525252525253D%252525252525252525252525252Fsignup2.php%252525252525252525252525253Fac%252525252525252525252525253D1%2525252525252525252525252526from_uri%252525252525252525252525253D%25252525252525252525252525252Fsignup2.php'\n",
      "  0]\n",
      " ['https://lastpass.com/signup2.php?ac=1&from_uri=%2Fsignup2.php%3Fac%3D1%26from_uri%3D%252Fsignup2.php%253Fac%253D1%2526from_uri%253D%25252Fsignup2.php%25253Fac%25253D1%252526from_uri%25253D%2525252Fsignup2.php%2525253Fac%2525253D1%25252526from_uri%2525253D%252525252Fsignup2.php%252525253Fac%252525253D1%2525252526from_uri%252525253D%25252525252Fsignup2.php%25252525253Fac%25252525253D1%252525252526from_uri%25252525253D%2525252525252Fsignup2.php%2525252525253Fac%2525252525253D1%25252525252526from_uri%2525252525253D%252525252525252Fsignup2.php%252525252525253Fac%252525252525253D1%2525252525252526from_uri%252525252525253D%25252525252525252Fsignup2.php%25252525252525253Fac%25252525252525253D1%252525252525252526from_uri%25252525252525253D%2525252525252525252Fsignup2.php%2525252525252525253Fac%2525252525252525253D1%25252525252525252526from_uri%2525252525252525253D%252525252525252525252Fsignup2.php%252525252525252525253Fac%252525252525252525253D1%2525252525252525252526from_uri%252525252525252525253D%25252525252525252525252Fsignup2.php%25252525252525252525253Fac%25252525252525252525253D1%252525252525252525252526from_uri%25252525252525252525253D%2525252525252525252525252Fsignup2.php%2525252525252525252525253Fac%2525252525252525252525253D1%25252525252525252525252526from_uri%2525252525252525252525253D%252525252525252525252525252Fsignup2.php%252525252525252525252525253Fac%252525252525252525252525253D1%2525252525252525252525252526from_uri%252525252525252525252525253D%25252525252525252525252525252Fsignup2.php%25252525252525252525252525253Fac%25252525252525252525252525253D1%252525252525252525252525252526from_uri%25252525252525252525252525253D%2525252525252525252525252525252Fsignup2.php'\n",
      "  0]\n",
      " ['https://asana.com/guide/videos/%22//fast.wistia.net/embed/iframe/nfi3dx4h43?plugin%5Bchapters%5D%5Bch_1_title%5D=Intro%3A%20Workspace%20or%20Organization%3F&plugin%5Bchapters%5D%5Bch_1_time%5D=15&plugin%5Bchapters%5D%5Bch_2_title%5D=My%20Tasks%20and%20Inbox&plugin%5Bchapters%5D%5Bch_2_time%5D=63&plugin%5Bchapters%5D%5Bch_3_title%5D=Today%2C%20Upcoming%2C%20and%20Later&plugin%5Bchapters%5D%5Bch_3_time%5D=96&plugin%5Bchapters%5D%5Bch_4_title%5D=Inbox&plugin%5Bchapters%5D%5Bch_4_time%5D=112&plugin%5Bchapters%5D%5Bch_5_title%5D=Turn%20off%20activity%20Emails&plugin%5Bchapters%5D%5Bch_5_time%5D=145&plugin%5Bchapters%5D%5Bch_6_title%5D=Hierarchy%20in%20Asana&plugin%5Bchapters%5D%5Bch_6_time%5D=165&plugin%5Bchapters%5D%5Bch_7_title%5D=Sections&plugin%5Bchapters%5D%5Bch_7_time%5D=220&plugin%5Bchapters%5D%5Bch_8_title%5D=Account%20Settings&plugin%5Bchapters%5D%5Bch_8_time%5D=256&plugin%5Bchapters%5D%5Bch_9_title%5D=Team%20Membership&plugin%5Bchapters%5D%5Bch_9_time%5D=282&plugin%5Bchapters%5D%5Bch_10_title%5D=Members%20vs.%20Guests&plugin%5Bchapters%5D%5Bch_10_time%5D=320&plugin%5Bchapters%5D%5Bch_11_title%5D=Inviting%20Guests&plugin%5Bchapters%5D%5Bch_11_time%5D=407&plugin%5Bchapters%5D%5Bch_12_title%5D=Project%20Options&plugin%5Bchapters%5D%5Bch_12_time%5D=505&plugin%5Bchapters%5D%5Bch_13_title%5D=Project%20Sort%20Views&plugin%5Bchapters%5D%5Bch_13_time%5D=612&plugin%5Bchapters%5D%5Bch_14_title%5D=Task%20Pane%20Options&plugin%5Bchapters%5D%5Bch_14_time%5D=661&plugin%5Bchapters%5D%5Bch_15_title%5D=Followers%20and%20Notifications&plugin%5Bchapters%5D%5Bch_15_time%5D=784&plugin%5Bchapters%5D%5Bch_16_title%5D=Specific%20Features%3A%20Hypertext&plugin%5Bchapters%5D%5Bch_16_time%5D=821&plugin%5Bchapters%5D%5Bch_17_title%5D=Multi-Home%20Tasks&plugin%5Bchapters%5D%5Bch_17_time%5D=958&plugin%5Bchapters%5D%5Bch_18_title%5D=Search%20Views&plugin%5Bchapters%5D%5Bch_18_time%5D=1089&plugin%5Bchapters%5D%5Bch_19_title%5D=Batch%20Actions%20&plugin%5Bchapters%5D%5Bch_19_time%5D=1231&plugin%5Bchapters%5D%5Bch_20_title%5D=Keyboard%20Shortcuts&plugin%5Bchapters%5D%5Bch_20'\n",
      "  0]]\n",
      "(35378, 2)\n",
      "[['http://astore.amazon.co.uk/allezvinsfrenchr/detail/1904010202/026-8324244-9330038'\n",
      "  1]\n",
      " ['http://archive.salisburyjournal.co.uk/2007/3/6/306369.html' 1]\n",
      " ['http://appbasic.jettons.co.uk/links/index.html' 1]\n",
      " ...\n",
      " ['http://liuheng.chengxuren.com/Images/' 1]\n",
      " ['http://mcnaotempreco.net/site/portal/' 1]\n",
      " ['http://missionaryfilms.org/index.html' 1]]\n",
      "(24568, 2)\n",
      "(59946, 2)\n"
     ]
    }
   ],
   "source": [
    "fake = False\n",
    "\n",
    "if fake:\n",
    "    df_benign = pd.read_csv(\"../checkpoints/URL_LSTM/11-29-2021/Benign/Benign_Samples_29-11-2021_13-13.csv\", header=None)\n",
    "    df_spam = pd.read_csv(\"../checkpoints/URL_LSTM/11-29-2021/Attack/Spam_Samples_29-11-2021_11-38.csv\", header=None, delimiter='\\t')\n",
    "else:\n",
    "    df_benign = pd.read_csv(\"../Datasets/URL/FinalDataset/URL/Benign_list_big_final.csv\", header=None)\n",
    "\n",
    "    df1 = pd.read_csv(\"../Datasets/URL/FinalDataset/URL/spam_dataset.csv\", header=None)\n",
    "    df3 = pd.read_csv(\"../Datasets/URL/FinalDataset/URL/Malware_dataset.csv\", header=None)\n",
    "    df4 = pd.read_csv(\"../Datasets/URL/FinalDataset/URL/phishing_dataset.csv\", header=None)\n",
    "    df_spam = pd.concat([df1, df3, df4], ignore_index=True)\n",
    "\n",
    "df_benign = df_benign.drop_duplicates(keep='first')\n",
    "benign_urls = np.c_[np.array(df_benign.values), np.zeros_like(np.array(df_benign.values))]\n",
    "print(benign_urls)\n",
    "print(benign_urls.shape)\n",
    "\n",
    "df_spam = df_spam.drop_duplicates(keep='first')\n",
    "spam_urls = np.c_[np.array(df_spam.values), np.ones_like(np.array(df_spam.values))]\n",
    "print(spam_urls)\n",
    "print(spam_urls.shape)\n",
    "\n",
    "urls = np.append(benign_urls, spam_urls, axis=0)\n",
    "print(urls.shape)"
   ],
   "metadata": {
    "collapsed": false,
    "pycharm": {
     "name": "#%%\n"
    }
   }
  },
  {
   "cell_type": "code",
   "execution_count": 23,
   "outputs": [
    {
     "name": "stdout",
     "output_type": "stream",
     "text": [
      "('<pad>', ' ', '!', '#', '$', '%', '&', \"'\", '(', ')', '*', '+', ',', '-', '.', '/', '0', '1', '2', '3', '4', '5', '6', '7', '8', '9', ':', ';', '=', '?', '@', 'A', 'B', 'C', 'D', 'E', 'F', 'G', 'H', 'I', 'J', 'K', 'L', 'M', 'N', 'O', 'P', 'Q', 'R', 'S', 'T', 'U', 'V', 'W', 'X', 'Y', 'Z', '[', ']', '_', 'a', 'b', 'c', 'd', 'e', 'f', 'g', 'h', 'i', 'j', 'k', 'l', 'm', 'n', 'o', 'p', 'q', 'r', 's', 't', 'u', 'v', 'w', 'x', 'y', 'z', '{', '|', '}', '~', '\\x8d', '¸', 'ä', 'å', 'ø', 'Š', 'ˆ')\n",
      "(59946,) (59946,)\n",
      "[67, 79, 79, 75, 26, 15, 15, 17, 19, 19, 23, 83, 14, 79, 74, 15, 79, 74, 77, 77, 64, 73, 79, 15, 17, 16, 20, 24, 22, 20, 24, 15, 31, 72, 64, 77, 68, 62, 60, 73, 13, 49, 73, 68, 75, 64, 77, 13, 18, 16, 17, 20, 13, 43, 34, 13, 68, 50, 31, 42, 68, 31, 44, 13, 34, 52, 34, 49, 33, 48, 13, 54, 18, 22, 20, 13, 32, 49, 50, 13, 43, 50, 15] 0\n"
     ]
    },
    {
     "name": "stderr",
     "output_type": "stream",
     "text": [
      "C:\\Users\\Spencer\\AppData\\Local\\Temp\\ipykernel_25376\\4043335881.py:13: VisibleDeprecationWarning: Creating an ndarray from ragged nested sequences (which is a list-or-tuple of lists-or-tuples-or ndarrays with different lengths or shapes) is deprecated. If you meant to do this, you must specify 'dtype=object' when creating the ndarray.\n",
      "  X = np.array(encoded)\n"
     ]
    }
   ],
   "source": [
    "allURL = ''.join(urls[:,0])\n",
    "chars = tuple(['<pad>'] + sorted(set(allURL))) #find unique characters\n",
    "print(chars)\n",
    "\n",
    "int2char = dict(enumerate(chars)) #go over each unique char in the set and assign an int\n",
    "char2int = {ch: ii for ii, ch in int2char.items()} #creates dictionary that maps char to integer (reverse of above)\n",
    "\n",
    "encoded = []\n",
    "for url in urls:\n",
    "    encoded.append([char2int[ch] for ch in url[0]])\n",
    "\n",
    "\n",
    "X = np.array(encoded)\n",
    "y = np.array(urls[:,1])\n",
    "\n",
    "print(X.shape, y.shape)\n",
    "print(X[0], y[0])\n",
    "\n",
    "X_train, X_test, y_train, y_test = train_test_split(X, y, test_size=0.15, random_state=12)"
   ],
   "metadata": {
    "collapsed": false,
    "pycharm": {
     "name": "#%%\n"
    }
   }
  },
  {
   "cell_type": "code",
   "execution_count": 14,
   "outputs": [],
   "source": [
    "def get_batches(X, y, batch_size):\n",
    "\n",
    "    batches_X, batches_y, seq_lengths = [], [], []\n",
    "\n",
    "    for i in tqdm(range(int(len(X)/batch_size))):  #number of even batches\n",
    "        batch_X, batch_y, seq_lengths_batch = [], [], []\n",
    "\n",
    "        for r in range(i*batch_size, (i+1)*batch_size):\n",
    "            seq_lengths_batch.append(len(X[r]))\n",
    "            batch_X.append(X[r])\n",
    "            batch_y.append(y[r])\n",
    "\n",
    "        maxLen =  max(seq_lengths_batch)\n",
    "\n",
    "        text_in = torch.zeros((batch_size, maxLen))\n",
    "        target = torch.tensor(batch_y)\n",
    "\n",
    "        for r in range(batch_size):\n",
    "            for c in range(len(batch_X[r])):\n",
    "                text_in[r][c] = batch_X[r][c]\n",
    "\n",
    "        seq_lengths_batch, perm_idx = torch.tensor(seq_lengths_batch).sort(0, descending=True) #sort batch with longest sequence at the top\n",
    "        text_in = text_in[perm_idx]\n",
    "        target = target[perm_idx]\n",
    "\n",
    "        batches_X.append(text_in.long())\n",
    "        batches_y.append(target.float())\n",
    "        seq_lengths.append(seq_lengths_batch.long())\n",
    "\n",
    "    return batches_X, batches_y, seq_lengths"
   ],
   "metadata": {
    "collapsed": false,
    "pycharm": {
     "name": "#%%\n"
    }
   }
  },
  {
   "cell_type": "code",
   "execution_count": 16,
   "outputs": [],
   "source": [
    "class CharRNN(nn.Module):\n",
    "\n",
    "    def __init__(self, tokens, hidden_size=256, num_layers=2, lr=0.01):\n",
    "        super().__init__()\n",
    "\n",
    "        self.num_layers = num_layers\n",
    "        self.hidden_size = hidden_size\n",
    "        self.lr = lr\n",
    "        self.input_size = len(tokens)\n",
    "        self.output_size = 1 #since its binary classification\n",
    "\n",
    "        #create character dictionary\n",
    "        self.chars = tokens\n",
    "        self.int2char = dict(enumerate(self.chars))\n",
    "        self.char2int = {ch: ii for ii, ch in int2char.items()}\n",
    "\n",
    "        #define network\n",
    "        self.embed = Embedding(self.input_size, hidden_size, padding_idx=0)\n",
    "        self.lstm = LSTM(hidden_size, hidden_size, num_layers, batch_first=True )\n",
    "        #self.dropout = nn.Dropout(0.5)\n",
    "        self.fc = nn.Linear(hidden_size, self.output_size)\n",
    "\n",
    "        self.init_weights()\n",
    "\n",
    "    def forward(self, x, x_lengths):\n",
    "        embedded_input = self.embed(x)\n",
    "        packed_input = pack_padded_sequence(embedded_input, x_lengths.cpu().numpy(), batch_first=True)\n",
    "        packed_out, (hidden_state, cell_state) = self.lstm(packed_input)\n",
    "\n",
    "        out = self.fc(hidden_state)\n",
    "        return out\n",
    "\n",
    "    def predict(self, inputs, seq_lengths):\n",
    "\n",
    "        if cuda:\n",
    "            self.cuda()\n",
    "\n",
    "        h = self.forward(inputs, seq_lengths)\n",
    "        p = torch.sigmoid(h[-1,:,:].squeeze())\n",
    "\n",
    "        if cuda:\n",
    "            p = p.cpu()\n",
    "\n",
    "        return p\n",
    "\n",
    "    #Initialize weights for fully connected layer\n",
    "    def init_weights(self):\n",
    "\n",
    "        # Set bias tensor to all zeros\n",
    "        self.fc.bias.data.fill_(0)\n",
    "        # FC weights as random uniform\n",
    "        self.fc.weight.data.uniform_(-1, 1)\n",
    "\n",
    "# Calculate performance measures\n",
    "def compute_performance(yhat, y, pos_cutoff):\n",
    "    # First, get tp, tn, fp, fn\n",
    "    tp = sum(np.logical_and(yhat >= pos_cutoff, y == 1).numpy())\n",
    "    tn = sum(np.logical_and(yhat < pos_cutoff, y == 0).numpy())\n",
    "    fp = sum(np.logical_and(yhat >= pos_cutoff, y == 0).numpy())\n",
    "    fn = sum(np.logical_and(yhat < pos_cutoff, y == 1).numpy())\n",
    "\n",
    "    print(f\"tp: {tp} tn: {tn} fp: {fp} fn: {fn}\")\n",
    "\n",
    "    acc = (tp + tn) / (tp + tn + fp + fn)\n",
    "    precision = tp / (tp + fp)\n",
    "    recall = tp / (tp + fn)\n",
    "    sensitivity = recall\n",
    "    specificity = tn / (fp + tn)\n",
    "\n",
    "    # Print results\n",
    "    print(\"Accuracy: \",acc,\" Recall: \",recall,\" Precision: \",precision,\n",
    "          \" Sensitivity: \",sensitivity,\" Specificity: \",specificity)\n"
   ],
   "metadata": {
    "collapsed": false,
    "pycharm": {
     "name": "#%%\n"
    }
   }
  },
  {
   "cell_type": "code",
   "execution_count": 19,
   "outputs": [],
   "source": [
    "def train(net, X, y, cuda=False, epochs=10, batch_size=10, lr=0.001, clip=5, early_stop=10):\n",
    "\n",
    "    opt = torch.optim.Adam(net.parameters(), lr=lr)\n",
    "    criterion = nn.BCEWithLogitsLoss()\n",
    "\n",
    "    if cuda:\n",
    "        net.cuda()\n",
    "\n",
    "    lowest_val_loss = np.inf\n",
    "    train_losses, val_losses =[], []\n",
    "    lowest_val_epoch, epochs_wo_improvement = 0, 0\n",
    "    best_model = copy.deepcopy(net.state_dict())\n",
    "\n",
    "    print(\"\\nMaking Training and Validation Batches\")\n",
    "    # create training and validation batches\n",
    "    X_train, X_val, y_train, y_val = train_test_split(X, y, test_size=0.1, random_state=12)\n",
    "    train_inputs, train_targets, train_seq_lengths = get_batches(X_train, y_train, batch_size)\n",
    "    val_inputs, val_targets, val_seq_lengths = get_batches(X_val, y_val, batch_size)\n",
    "\n",
    "    print(\"\\nTraining Start\\n\")\n",
    "    for e in range(epochs):\n",
    "\n",
    "        net.train()\n",
    "        epoch_loss = 0\n",
    "\n",
    "        for b in tqdm(range(len(train_inputs))):\n",
    "            if cuda:\n",
    "                input, target, seq_length = train_inputs[b].cuda(), train_targets[b].cuda(), train_seq_lengths[b].cuda()\n",
    "            else:\n",
    "                input, target, seq_length = train_inputs[b], train_targets[b], train_seq_lengths[b]\n",
    "\n",
    "            net.zero_grad(set_to_none=None)\n",
    "            h = net.forward(input, seq_length)\n",
    "            loss = criterion(h[-1,:,:].squeeze(), target)\n",
    "            loss.backward()\n",
    "            opt.step()\n",
    "            epoch_loss+=loss\n",
    "\n",
    "        train_losses.append(epoch_loss.item()/len(train_inputs))\n",
    "\n",
    "        #VALIDATION\n",
    "        with torch.no_grad():\n",
    "            net.eval()\n",
    "            net.zero_grad(set_to_none=None)\n",
    "            val_loss = 0\n",
    "            val_preds, val_targets_list = [], []\n",
    "\n",
    "            for vb in tqdm(range(len(val_inputs))):\n",
    "                if cuda:\n",
    "                    val_input, val_target, val_seq_length = val_inputs[vb].cuda(), val_targets[vb].cuda(), val_seq_lengths[vb].cuda()\n",
    "\n",
    "                val_h = net.forward(val_input, val_seq_length)\n",
    "                val_preds+=val_h[-1,:,:].squeeze()\n",
    "                val_targets_list+=val_target\n",
    "                val_loss += criterion(val_h[-1,:,:].squeeze(), val_target)\n",
    "\n",
    "        val_loss = val_loss.item()/len(val_inputs)\n",
    "        val_losses.append(val_loss)\n",
    "\n",
    "        if val_loss <= lowest_val_loss:\n",
    "            best_model = copy.deepcopy(net.state_dict())\n",
    "            lowest_val_loss = val_loss\n",
    "            lowest_val_epoch=e\n",
    "            epochs_wo_improvement=0\n",
    "        else:\n",
    "            epochs_wo_improvement+=1\n",
    "\n",
    "        if epochs_wo_improvement>=early_stop:\n",
    "            print(\"Early Stop no improvement in validation loss in \"+str(early_stop)+\" validation steps\")\n",
    "            break\n",
    "\n",
    "        print(\"Epoch: {}/{}...\".format(e, epochs),\n",
    "              \"Loss: {:.4f}...\".format(train_losses[-1]),\n",
    "              \"Val Loss: {:.4f}\".format(val_losses[-1]),)\n",
    "\n",
    "        compute_performance(torch.sigmoid(torch.Tensor(val_preds)), torch.Tensor(val_targets_list), 0.5)\n",
    "\n",
    "    print(\"Lowest Validation Loss: \"+str(lowest_val_loss.item()))\n",
    "\n",
    "    net.load_state_dict(best_model)\n",
    "    run_ID = datetime.now().strftime(\"%d-%m-%Y_%H-%M\")\n",
    "    torch.save({'model_state_dict': best_model}, 'C:/Users/Spencer/Documents/pytorch/checkpoints/URL_LSTM/'+str(run_ID)+'_E_'+str(lowest_val_epoch)+'_VL_'+str(round(lowest_val_loss.item(), 4))+'.pt')\n",
    "\n",
    "    df = pd.DataFrame(zip(train_losses, val_losses), columns=[\"Train Loss\", \"Validation Loss\"])\n",
    "    print(df)\n",
    "    df.to_csv('../checkpoints/URL_LSTM/'+str(run_ID)+'_E-'+str(lowest_val_epoch)+'_VL-{:.4f}'.format(lowest_val_loss)+'.csv')\n",
    "\n",
    "    #plot losses\n",
    "    fig, ax = plt.subplots(dpi = 120)\n",
    "    ax.set_title(\"Training and Validation Loss\")\n",
    "    ax.set_ylabel(\"Loss\")\n",
    "    ax.set_xlabel(\"Epoch\")\n",
    "    ax.plot(np.linspace(0, len(train_losses), len(train_losses)),train_losses, 'r', label='Training Loss' )\n",
    "    ax.plot(np.linspace(0, len(val_losses), len(val_losses)),val_losses, 'b', label='Validation Loss' )\n",
    "    ax.legend(loc='upper center', bbox_to_anchor=(0.5, -0.15), shadow=True, ncol=2)\n",
    "    plt.show()\n",
    "    fig.savefig('../checkpoints/URL_LSTM/'+str(run_ID)+'_E-'+str(lowest_val_epoch)+'_VL-{:.4f}'.format(lowest_val_loss)+'.png')\n",
    "    plt.close(fig)\n",
    "\n",
    "    return net"
   ],
   "metadata": {
    "collapsed": false,
    "pycharm": {
     "name": "#%%\n"
    }
   }
  },
  {
   "cell_type": "code",
   "execution_count": 24,
   "outputs": [
    {
     "name": "stderr",
     "output_type": "stream",
     "text": [
      "  1%|          | 2/358 [00:00<00:25, 14.08it/s]"
     ]
    },
    {
     "name": "stdout",
     "output_type": "stream",
     "text": [
      "CharRNN(\n",
      "  (embed): Embedding(97, 512, padding_idx=0)\n",
      "  (lstm): LSTM(512, 512, num_layers=2, batch_first=True)\n",
      "  (fc): Linear(in_features=512, out_features=1, bias=True)\n",
      ")\n",
      "\n",
      "Making Training and Validation Batches\n"
     ]
    },
    {
     "name": "stderr",
     "output_type": "stream",
     "text": [
      "100%|██████████| 358/358 [00:25<00:00, 14.21it/s]\n",
      "100%|██████████| 39/39 [00:02<00:00, 14.43it/s]\n",
      "  0%|          | 0/358 [00:00<?, ?it/s]"
     ]
    },
    {
     "name": "stdout",
     "output_type": "stream",
     "text": [
      "\n",
      "Training Start\n",
      "\n"
     ]
    },
    {
     "name": "stderr",
     "output_type": "stream",
     "text": [
      "100%|██████████| 358/358 [00:38<00:00,  9.30it/s]\n",
      "100%|██████████| 39/39 [00:01<00:00, 34.80it/s]\n"
     ]
    },
    {
     "name": "stdout",
     "output_type": "stream",
     "text": [
      "Epoch: 0/50... Loss: 0.1786... Val Loss: 0.0737\n"
     ]
    },
    {
     "name": "stderr",
     "output_type": "stream",
     "text": [
      "  0%|          | 1/358 [00:00<00:53,  6.73it/s]"
     ]
    },
    {
     "name": "stdout",
     "output_type": "stream",
     "text": [
      "tp: 1988 tn: 2906 fp: 29 fn: 69\n",
      "Accuracy:  0.9803685897435898  Recall:  0.966456003889159  Precision:  0.9856222112047596  Sensitivity:  0.966456003889159  Specificity:  0.9901192504258943\n"
     ]
    },
    {
     "name": "stderr",
     "output_type": "stream",
     "text": [
      "100%|██████████| 358/358 [00:38<00:00,  9.22it/s]\n",
      "100%|██████████| 39/39 [00:01<00:00, 35.89it/s]\n"
     ]
    },
    {
     "name": "stdout",
     "output_type": "stream",
     "text": [
      "Epoch: 1/50... Loss: 0.0569... Val Loss: 0.0707\n"
     ]
    },
    {
     "name": "stderr",
     "output_type": "stream",
     "text": [
      "  0%|          | 1/358 [00:00<00:51,  6.97it/s]"
     ]
    },
    {
     "name": "stdout",
     "output_type": "stream",
     "text": [
      "tp: 1981 tn: 2915 fp: 20 fn: 76\n",
      "Accuracy:  0.9807692307692307  Recall:  0.9630529897909577  Precision:  0.9900049975012494  Sensitivity:  0.9630529897909577  Specificity:  0.9931856899488927\n"
     ]
    },
    {
     "name": "stderr",
     "output_type": "stream",
     "text": [
      "100%|██████████| 358/358 [00:37<00:00,  9.49it/s]\n",
      "100%|██████████| 39/39 [00:01<00:00, 36.51it/s]\n"
     ]
    },
    {
     "name": "stdout",
     "output_type": "stream",
     "text": [
      "Epoch: 2/50... Loss: 0.0325... Val Loss: 0.0330\n"
     ]
    },
    {
     "name": "stderr",
     "output_type": "stream",
     "text": [
      "  0%|          | 1/358 [00:00<00:51,  6.94it/s]"
     ]
    },
    {
     "name": "stdout",
     "output_type": "stream",
     "text": [
      "tp: 2029 tn: 2921 fp: 14 fn: 28\n",
      "Accuracy:  0.9915865384615384  Recall:  0.986387943607195  Precision:  0.9931473323543808  Sensitivity:  0.986387943607195  Specificity:  0.9952299829642248\n"
     ]
    },
    {
     "name": "stderr",
     "output_type": "stream",
     "text": [
      "100%|██████████| 358/358 [00:38<00:00,  9.41it/s]\n",
      "100%|██████████| 39/39 [00:01<00:00, 36.22it/s]\n"
     ]
    },
    {
     "name": "stdout",
     "output_type": "stream",
     "text": [
      "Epoch: 3/50... Loss: 0.0190... Val Loss: 0.0254\n"
     ]
    },
    {
     "name": "stderr",
     "output_type": "stream",
     "text": [
      "  0%|          | 1/358 [00:00<00:51,  6.92it/s]"
     ]
    },
    {
     "name": "stdout",
     "output_type": "stream",
     "text": [
      "tp: 2044 tn: 2919 fp: 16 fn: 13\n",
      "Accuracy:  0.9941907051282052  Recall:  0.9936801166747691  Precision:  0.9922330097087378  Sensitivity:  0.9936801166747691  Specificity:  0.9945485519591142\n"
     ]
    },
    {
     "name": "stderr",
     "output_type": "stream",
     "text": [
      "100%|██████████| 358/358 [00:38<00:00,  9.42it/s]\n",
      "100%|██████████| 39/39 [00:01<00:00, 35.42it/s]\n"
     ]
    },
    {
     "name": "stdout",
     "output_type": "stream",
     "text": [
      "Epoch: 4/50... Loss: 0.0137... Val Loss: 0.0275\n"
     ]
    },
    {
     "name": "stderr",
     "output_type": "stream",
     "text": [
      "  0%|          | 1/358 [00:00<00:51,  6.94it/s]"
     ]
    },
    {
     "name": "stdout",
     "output_type": "stream",
     "text": [
      "tp: 2042 tn: 2910 fp: 25 fn: 15\n",
      "Accuracy:  0.9919871794871795  Recall:  0.9927078269324259  Precision:  0.9879051765844219  Sensitivity:  0.9927078269324259  Specificity:  0.9914821124361158\n"
     ]
    },
    {
     "name": "stderr",
     "output_type": "stream",
     "text": [
      "100%|██████████| 358/358 [00:38<00:00,  9.41it/s]\n",
      "100%|██████████| 39/39 [00:01<00:00, 35.99it/s]\n"
     ]
    },
    {
     "name": "stdout",
     "output_type": "stream",
     "text": [
      "Epoch: 5/50... Loss: 0.0097... Val Loss: 0.0167\n"
     ]
    },
    {
     "name": "stderr",
     "output_type": "stream",
     "text": [
      "  0%|          | 1/358 [00:00<00:52,  6.80it/s]"
     ]
    },
    {
     "name": "stdout",
     "output_type": "stream",
     "text": [
      "tp: 2052 tn: 2922 fp: 13 fn: 5\n",
      "Accuracy:  0.9963942307692307  Recall:  0.997569275644142  Precision:  0.9937046004842615  Sensitivity:  0.997569275644142  Specificity:  0.9955706984667803\n"
     ]
    },
    {
     "name": "stderr",
     "output_type": "stream",
     "text": [
      "100%|██████████| 358/358 [00:38<00:00,  9.41it/s]\n",
      "100%|██████████| 39/39 [00:01<00:00, 36.34it/s]\n"
     ]
    },
    {
     "name": "stdout",
     "output_type": "stream",
     "text": [
      "Epoch: 6/50... Loss: 0.0082... Val Loss: 0.0159\n"
     ]
    },
    {
     "name": "stderr",
     "output_type": "stream",
     "text": [
      "  0%|          | 1/358 [00:00<00:51,  6.92it/s]"
     ]
    },
    {
     "name": "stdout",
     "output_type": "stream",
     "text": [
      "tp: 2052 tn: 2922 fp: 13 fn: 5\n",
      "Accuracy:  0.9963942307692307  Recall:  0.997569275644142  Precision:  0.9937046004842615  Sensitivity:  0.997569275644142  Specificity:  0.9955706984667803\n"
     ]
    },
    {
     "name": "stderr",
     "output_type": "stream",
     "text": [
      "100%|██████████| 358/358 [00:37<00:00,  9.42it/s]\n",
      "100%|██████████| 39/39 [00:01<00:00, 36.26it/s]\n"
     ]
    },
    {
     "name": "stdout",
     "output_type": "stream",
     "text": [
      "Epoch: 7/50... Loss: 0.0025... Val Loss: 0.0217\n"
     ]
    },
    {
     "name": "stderr",
     "output_type": "stream",
     "text": [
      "  0%|          | 1/358 [00:00<00:51,  6.94it/s]"
     ]
    },
    {
     "name": "stdout",
     "output_type": "stream",
     "text": [
      "tp: 2042 tn: 2928 fp: 7 fn: 15\n",
      "Accuracy:  0.9955929487179487  Recall:  0.9927078269324259  Precision:  0.9965836993655441  Sensitivity:  0.9927078269324259  Specificity:  0.9976149914821124\n"
     ]
    },
    {
     "name": "stderr",
     "output_type": "stream",
     "text": [
      "100%|██████████| 358/358 [00:37<00:00,  9.44it/s]\n",
      "100%|██████████| 39/39 [00:01<00:00, 36.31it/s]\n"
     ]
    },
    {
     "name": "stdout",
     "output_type": "stream",
     "text": [
      "Epoch: 8/50... Loss: 0.0054... Val Loss: 0.0179\n"
     ]
    },
    {
     "name": "stderr",
     "output_type": "stream",
     "text": [
      "  0%|          | 1/358 [00:00<00:51,  6.92it/s]"
     ]
    },
    {
     "name": "stdout",
     "output_type": "stream",
     "text": [
      "tp: 2055 tn: 2917 fp: 18 fn: 2\n",
      "Accuracy:  0.9959935897435898  Recall:  0.9990277102576568  Precision:  0.9913169319826338  Sensitivity:  0.9990277102576568  Specificity:  0.9938671209540034\n"
     ]
    },
    {
     "name": "stderr",
     "output_type": "stream",
     "text": [
      "100%|██████████| 358/358 [00:38<00:00,  9.40it/s]\n",
      "100%|██████████| 39/39 [00:01<00:00, 36.02it/s]\n"
     ]
    },
    {
     "name": "stdout",
     "output_type": "stream",
     "text": [
      "Epoch: 9/50... Loss: 0.0091... Val Loss: 0.0144\n"
     ]
    },
    {
     "name": "stderr",
     "output_type": "stream",
     "text": [
      "  0%|          | 1/358 [00:00<00:52,  6.82it/s]"
     ]
    },
    {
     "name": "stdout",
     "output_type": "stream",
     "text": [
      "tp: 2052 tn: 2923 fp: 12 fn: 5\n",
      "Accuracy:  0.9965945512820513  Recall:  0.997569275644142  Precision:  0.9941860465116279  Sensitivity:  0.997569275644142  Specificity:  0.9959114139693356\n"
     ]
    },
    {
     "name": "stderr",
     "output_type": "stream",
     "text": [
      "100%|██████████| 358/358 [00:38<00:00,  9.33it/s]\n",
      "100%|██████████| 39/39 [00:01<00:00, 35.48it/s]\n"
     ]
    },
    {
     "name": "stdout",
     "output_type": "stream",
     "text": [
      "Epoch: 10/50... Loss: 0.0035... Val Loss: 0.0144\n"
     ]
    },
    {
     "name": "stderr",
     "output_type": "stream",
     "text": [
      "  0%|          | 1/358 [00:00<00:56,  6.33it/s]"
     ]
    },
    {
     "name": "stdout",
     "output_type": "stream",
     "text": [
      "tp: 2049 tn: 2925 fp: 10 fn: 8\n",
      "Accuracy:  0.9963942307692307  Recall:  0.9961108410306271  Precision:  0.9951432734337057  Sensitivity:  0.9961108410306271  Specificity:  0.9965928449744463\n"
     ]
    },
    {
     "name": "stderr",
     "output_type": "stream",
     "text": [
      "100%|██████████| 358/358 [00:38<00:00,  9.27it/s]\n",
      "100%|██████████| 39/39 [00:01<00:00, 36.31it/s]\n"
     ]
    },
    {
     "name": "stdout",
     "output_type": "stream",
     "text": [
      "Epoch: 11/50... Loss: 0.0041... Val Loss: 0.0247\n"
     ]
    },
    {
     "name": "stderr",
     "output_type": "stream",
     "text": [
      "  0%|          | 1/358 [00:00<00:53,  6.71it/s]"
     ]
    },
    {
     "name": "stdout",
     "output_type": "stream",
     "text": [
      "tp: 2046 tn: 2912 fp: 23 fn: 11\n",
      "Accuracy:  0.9931891025641025  Recall:  0.9946524064171123  Precision:  0.9888835186080231  Sensitivity:  0.9946524064171123  Specificity:  0.9921635434412266\n"
     ]
    },
    {
     "name": "stderr",
     "output_type": "stream",
     "text": [
      "100%|██████████| 358/358 [00:38<00:00,  9.35it/s]\n",
      "100%|██████████| 39/39 [00:01<00:00, 35.68it/s]\n"
     ]
    },
    {
     "name": "stdout",
     "output_type": "stream",
     "text": [
      "Epoch: 12/50... Loss: 0.0022... Val Loss: 0.0181\n"
     ]
    },
    {
     "name": "stderr",
     "output_type": "stream",
     "text": [
      "  0%|          | 1/358 [00:00<00:52,  6.85it/s]"
     ]
    },
    {
     "name": "stdout",
     "output_type": "stream",
     "text": [
      "tp: 2044 tn: 2931 fp: 4 fn: 13\n",
      "Accuracy:  0.9965945512820513  Recall:  0.9936801166747691  Precision:  0.998046875  Sensitivity:  0.9936801166747691  Specificity:  0.9986371379897785\n"
     ]
    },
    {
     "name": "stderr",
     "output_type": "stream",
     "text": [
      "100%|██████████| 358/358 [00:38<00:00,  9.34it/s]\n",
      "100%|██████████| 39/39 [00:01<00:00, 36.26it/s]\n"
     ]
    },
    {
     "name": "stdout",
     "output_type": "stream",
     "text": [
      "Early Stop no improvement in validation loss in 3 validation steps\n",
      "Lowest Validation Loss: 0.5607379674911499\n",
      "    Train Loss  Validation Loss\n",
      "0     0.178555         0.073744\n",
      "1     0.056885         0.070667\n",
      "2     0.032463         0.032951\n",
      "3     0.018979         0.025408\n",
      "4     0.013741         0.027525\n",
      "5     0.009718         0.016683\n",
      "6     0.008219         0.015915\n",
      "7     0.002507         0.021675\n",
      "8     0.005354         0.017877\n",
      "9     0.009145         0.014398\n",
      "10    0.003502         0.014378\n",
      "11    0.004129         0.024724\n",
      "12    0.002201         0.018079\n",
      "13    0.003156         0.028818\n"
     ]
    },
    {
     "data": {
      "text/plain": "<Figure size 720x480 with 1 Axes>",
      "image/png": "[encoded data removed]"
     },
     "metadata": {
      "needs_background": "light"
     },
     "output_type": "display_data"
    }
   ],
   "source": [
    "net = CharRNN(chars, hidden_size=512, num_layers=2)\n",
    "print(net)\n",
    "\n",
    "model = train(net, X_train, y_train, epochs=50, batch_size=128, lr=0.001, cuda=cuda, early_stop=3)\n"
   ],
   "metadata": {
    "collapsed": false,
    "pycharm": {
     "name": "#%%\n"
    }
   }
  },
  {
   "cell_type": "code",
   "execution_count": 13,
   "outputs": [
    {
     "ename": "RuntimeError",
     "evalue": "Error(s) in loading state_dict for CharRNN:\n\tsize mismatch for embed.weight: copying a param with shape torch.Size([93, 512]) from checkpoint, the shape in current model is torch.Size([98, 512]).",
     "output_type": "error",
     "traceback": [
      "\u001B[1;31m---------------------------------------------------------------------------\u001B[0m",
      "\u001B[1;31mRuntimeError\u001B[0m                              Traceback (most recent call last)",
      "Input \u001B[1;32mIn [13]\u001B[0m, in \u001B[0;36m<module>\u001B[1;34m\u001B[0m\n\u001B[0;32m      3\u001B[0m \u001B[38;5;66;03m#optimizer = TheOptimizerClass(*args, **kwargs)\u001B[39;00m\n\u001B[0;32m      5\u001B[0m checkpoint \u001B[38;5;241m=\u001B[39m torch\u001B[38;5;241m.\u001B[39mload(\u001B[38;5;124m'\u001B[39m\u001B[38;5;124m../checkpoints/URL_LSTM/11-29-2021/Classifier/Fake/29-11-2021_14-42_E_6_VL_0.5374.pt\u001B[39m\u001B[38;5;124m'\u001B[39m)\n\u001B[1;32m----> 6\u001B[0m \u001B[43mmodel\u001B[49m\u001B[38;5;241;43m.\u001B[39;49m\u001B[43mload_state_dict\u001B[49m\u001B[43m(\u001B[49m\u001B[43mcheckpoint\u001B[49m\u001B[43m[\u001B[49m\u001B[38;5;124;43m'\u001B[39;49m\u001B[38;5;124;43mmodel_state_dict\u001B[39;49m\u001B[38;5;124;43m'\u001B[39;49m\u001B[43m]\u001B[49m\u001B[43m)\u001B[49m\n",
      "File \u001B[1;32mc:\\users\\spencer\\documents\\pytorch\\venv\\lib\\site-packages\\torch\\nn\\modules\\module.py:1482\u001B[0m, in \u001B[0;36mModule.load_state_dict\u001B[1;34m(self, state_dict, strict)\u001B[0m\n\u001B[0;32m   1477\u001B[0m         error_msgs\u001B[38;5;241m.\u001B[39minsert(\n\u001B[0;32m   1478\u001B[0m             \u001B[38;5;241m0\u001B[39m, \u001B[38;5;124m'\u001B[39m\u001B[38;5;124mMissing key(s) in state_dict: \u001B[39m\u001B[38;5;132;01m{}\u001B[39;00m\u001B[38;5;124m. \u001B[39m\u001B[38;5;124m'\u001B[39m\u001B[38;5;241m.\u001B[39mformat(\n\u001B[0;32m   1479\u001B[0m                 \u001B[38;5;124m'\u001B[39m\u001B[38;5;124m, \u001B[39m\u001B[38;5;124m'\u001B[39m\u001B[38;5;241m.\u001B[39mjoin(\u001B[38;5;124m'\u001B[39m\u001B[38;5;124m\"\u001B[39m\u001B[38;5;132;01m{}\u001B[39;00m\u001B[38;5;124m\"\u001B[39m\u001B[38;5;124m'\u001B[39m\u001B[38;5;241m.\u001B[39mformat(k) \u001B[38;5;28;01mfor\u001B[39;00m k \u001B[38;5;129;01min\u001B[39;00m missing_keys)))\n\u001B[0;32m   1481\u001B[0m \u001B[38;5;28;01mif\u001B[39;00m \u001B[38;5;28mlen\u001B[39m(error_msgs) \u001B[38;5;241m>\u001B[39m \u001B[38;5;241m0\u001B[39m:\n\u001B[1;32m-> 1482\u001B[0m     \u001B[38;5;28;01mraise\u001B[39;00m \u001B[38;5;167;01mRuntimeError\u001B[39;00m(\u001B[38;5;124m'\u001B[39m\u001B[38;5;124mError(s) in loading state_dict for \u001B[39m\u001B[38;5;132;01m{}\u001B[39;00m\u001B[38;5;124m:\u001B[39m\u001B[38;5;130;01m\\n\u001B[39;00m\u001B[38;5;130;01m\\t\u001B[39;00m\u001B[38;5;132;01m{}\u001B[39;00m\u001B[38;5;124m'\u001B[39m\u001B[38;5;241m.\u001B[39mformat(\n\u001B[0;32m   1483\u001B[0m                        \u001B[38;5;28mself\u001B[39m\u001B[38;5;241m.\u001B[39m\u001B[38;5;18m__class__\u001B[39m\u001B[38;5;241m.\u001B[39m\u001B[38;5;18m__name__\u001B[39m, \u001B[38;5;124m\"\u001B[39m\u001B[38;5;130;01m\\n\u001B[39;00m\u001B[38;5;130;01m\\t\u001B[39;00m\u001B[38;5;124m\"\u001B[39m\u001B[38;5;241m.\u001B[39mjoin(error_msgs)))\n\u001B[0;32m   1484\u001B[0m \u001B[38;5;28;01mreturn\u001B[39;00m _IncompatibleKeys(missing_keys, unexpected_keys)\n",
      "\u001B[1;31mRuntimeError\u001B[0m: Error(s) in loading state_dict for CharRNN:\n\tsize mismatch for embed.weight: copying a param with shape torch.Size([93, 512]) from checkpoint, the shape in current model is torch.Size([98, 512])."
     ]
    }
   ],
   "source": [
    "# load checkpoint\n",
    "model = CharRNN(chars, hidden_size=512, num_layers=2)\n",
    "\n",
    "checkpoint = torch.load('../checkpoints/URL_LSTM/11-29-2021/Classifier/Fake/29-11-2021_14-42_E_6_VL_0.5374.pt')\n",
    "model.load_state_dict(checkpoint['model_state_dict'])\n"
   ],
   "metadata": {
    "collapsed": false,
    "pycharm": {
     "name": "#%%\n"
    }
   }
  },
  {
   "cell_type": "code",
   "execution_count": 26,
   "outputs": [
    {
     "name": "stderr",
     "output_type": "stream",
     "text": [
      "100%|██████████| 104/104 [00:06<00:00, 16.14it/s]\n",
      "100%|██████████| 104/104 [00:02<00:00, 41.29it/s]\n"
     ]
    },
    {
     "name": "stdout",
     "output_type": "stream",
     "text": [
      "tp: 5944 tn: 7312 fp: 25 fn: 31\n",
      "Accuracy:  0.9957932692307693  Recall:  0.9948117154811715  Precision:  0.9958116937510471  Sensitivity:  0.9948117154811715  Specificity:  0.9965926127845168\n",
      "[[7312   25]\n",
      " [  31 5944]]\n"
     ]
    },
    {
     "data": {
      "text/plain": "<sklearn.metrics._plot.confusion_matrix.ConfusionMatrixDisplay at 0x20d05392b50>"
     },
     "execution_count": 26,
     "metadata": {},
     "output_type": "execute_result"
    },
    {
     "data": {
      "text/plain": "<Figure size 432x288 with 2 Axes>",
      "image/png": "[encoded data removed]"
     },
     "metadata": {
      "needs_background": "light"
     },
     "output_type": "display_data"
    }
   ],
   "source": [
    "test_inputs, test_targets, test_seq_lengths = get_batches(X_test, y_test, 128)\n",
    "predictions, actuals = [], []\n",
    "model.eval()\n",
    "for i in tqdm(range(len(test_inputs))):\n",
    "\n",
    "    if cuda:\n",
    "        test_input_batch, test_target_batch, test_seq_length_batch = test_inputs[i].cuda(), test_targets[i], test_seq_lengths[i].cuda()\n",
    "\n",
    "    predictions+= (model.predict(test_input_batch, test_seq_length_batch)).detach().cpu()\n",
    "    actuals+=test_target_batch\n",
    "\n",
    "compute_performance(torch.tensor(np.array(predictions)), torch.tensor(np.array(actuals)), 0.5)\n",
    "print(confusion_matrix(actuals, np.round(predictions)))\n",
    "disp = ConfusionMatrixDisplay(confusion_matrix(actuals, np.round(predictions), labels=[0,1]), display_labels=['Benign', 'Malicious'])\n",
    "disp.plot()\n"
   ],
   "metadata": {
    "collapsed": false,
    "pycharm": {
     "name": "#%%\n"
    }
   }
  }
 ],
 "metadata": {
  "kernelspec": {
   "display_name": "Python 3",
   "language": "python",
   "name": "python3"
  },
  "language_info": {
   "codemirror_mode": {
    "name": "ipython",
    "version": 2
   },
   "file_extension": ".py",
   "mimetype": "text/x-python",
   "name": "python",
   "nbconvert_exporter": "python",
   "pygments_lexer": "ipython2",
   "version": "2.7.6"
  }
 },
 "nbformat": 4,
 "nbformat_minor": 0
}