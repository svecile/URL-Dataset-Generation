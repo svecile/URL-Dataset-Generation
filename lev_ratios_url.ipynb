{
 "cells": [
  {
   "cell_type": "code",
   "execution_count": 5,
   "metadata": {
    "collapsed": true
   },
   "outputs": [],
   "source": [
    "import numpy as np\n",
    "import pandas as pd\n",
    "import time\n",
    "import concurrent.futures\n",
    "import multiprocessing\n",
    "from compare_packets import compare_packets_ratio, compare_packets_dist\n",
    "\n",
    "pd.options.display.max_colwidth=200"
   ]
  },
  {
   "cell_type": "code",
   "execution_count": null,
   "outputs": [],
   "source": [
    "attack = False\n",
    "\n",
    "if attack:\n",
    "    #Fake attack\n",
    "    df_attack = pd.read_csv(\"../checkpoints/URL_LSTM/11-29-2021/Attack/Spam_Samples_29-11-2021_11-38.csv\", header=None, delimiter='\\t')\n",
    "    df_attack = df_attack.drop_duplicates(keep='first')\n",
    "    fake_array=df_attack.to_numpy().squeeze()\n",
    "\n",
    "    #real attack\n",
    "    df1 = pd.read_csv(\"../Datasets/URL/FinalDataset/URL/spam_dataset.csv\", header=None)\n",
    "    df3 = pd.read_csv(\"../Datasets/URL/FinalDataset/URL/Malware_dataset.csv\", header=None)\n",
    "    df4 = pd.read_csv(\"../Datasets/URL/FinalDataset/URL/phishing_dataset.csv\", header=None)\n",
    "    df_attack_real = pd.concat([df1, df3, df4], ignore_index=True)\n",
    "\n",
    "    real_samples = df_attack_real.to_numpy().squeeze()\n",
    "\n",
    "else:\n",
    "    #fake benign\n",
    "    df_benign = pd.read_csv(\"../checkpoints/URL_LSTM/11-29-2021/Benign/Benign_Samples_29-11-2021_13-13.csv\", header=None)\n",
    "    df_benign = df_benign.drop_duplicates(keep='first')\n",
    "\n",
    "    fake_array=df_benign.to_numpy().squeeze()\n",
    "\n",
    "    #real benign\n",
    "    df_benign_real = pd.read_csv(\"../Datasets/URL/FinalDataset/URL/Benign_list_big_final.csv\")\n",
    "    real_samples=df_benign_real.to_numpy().squeeze()\n",
    "    print(real_samples[0])\n",
    "\n",
    "\n",
    "print(\"Done Loading Data!\")\n"
   ],
   "metadata": {
    "collapsed": false,
    "pycharm": {
     "name": "#%%\n"
    }
   }
  },
  {
   "cell_type": "code",
   "execution_count": 7,
   "outputs": [
    {
     "name": "stdout",
     "output_type": "stream",
     "text": [
      "CPU's available for multiprocessing: 24\n",
      "2717\n",
      "2717\n",
      "2716\n",
      "2716\n",
      "2716\n",
      "2716\n",
      "2716\n",
      "2716\n",
      "2716\n",
      "2716\n",
      "2716\n",
      "2716\n",
      "2716\n",
      "2716\n",
      "2716\n",
      "2716\n",
      "2716\n",
      "2716\n",
      "(2717, 4)\n",
      "(2717, 4)\n",
      "(2716, 4)\n",
      "(2716, 4)\n",
      "(2716, 4)\n",
      "(2716, 4)\n",
      "(2716, 4)\n",
      "(2716, 4)\n",
      "(2716, 4)\n",
      "(2716, 4)\n",
      "(2716, 4)\n",
      "(2716, 4)\n",
      "(2716, 4)\n",
      "(2716, 4)\n",
      "(2716, 4)\n",
      "(2716, 4)\n",
      "(2716, 4)\n",
      "(2716, 4)\n"
     ]
    }
   ],
   "source": [
    "print(\"CPU's available for multiprocessing:\", multiprocessing.cpu_count())\n",
    "cpu_cores = 18\n",
    "fake_split = np.array_split(fake_array, cpu_cores)\n",
    "\n",
    "#check lengths are correct\n",
    "for lst in fake_split:\n",
    "    print(len(lst))\n",
    "\n",
    "def make_dist_lists(lists, ratio=True):\n",
    "    lev_lists = []\n",
    "\n",
    "    if ratio:\n",
    "        val = 0\n",
    "    else:\n",
    "        val = np.inf\n",
    "\n",
    "    for lst in lists:\n",
    "        lst = np.array(lst)\n",
    "        lev_dists = np.column_stack((lst, np.full_like(lst, fill_value=val), np.zeros_like(lst), np.zeros_like(lst)))\n",
    "        lev_lists.append(lev_dists)\n",
    "\n",
    "    return lev_lists\n",
    "\n",
    "dist_lists = make_dist_lists(fake_split)\n",
    "\n",
    "for lst in dist_lists:\n",
    "    print(np.array(lst).shape)\n",
    "\n",
    "real_lists = [real_samples for _ in range(cpu_cores)]"
   ],
   "metadata": {
    "collapsed": false,
    "pycharm": {
     "name": "#%%\n"
    }
   }
  },
  {
   "cell_type": "code",
   "execution_count": 8,
   "outputs": [
    {
     "name": "stdout",
     "output_type": "stream",
     "text": [
      "Elapsed = 1671.4427008628845\n"
     ]
    },
    {
     "name": "stderr",
     "output_type": "stream",
     "text": [
      "<ipython-input-8-2d98dc64c979>:9: VisibleDeprecationWarning: Creating an ndarray from ragged nested sequences (which is a list-or-tuple of lists-or-tuples-or ndarrays with different lengths or shapes) is deprecated. If you meant to do this, you must specify 'dtype=object' when creating the ndarray.\n",
      "  np.save(\"lev_ratio_attack_URL\", np.array(res))\n"
     ]
    }
   ],
   "source": [
    "start = time.time()\n",
    "\n",
    "with concurrent.futures.ProcessPoolExecutor() as executor:\n",
    "    results = executor.map(compare_packets_ratio, fake_split, real_lists, dist_lists)\n",
    "\n",
    "    res = []\n",
    "    for lst in results:\n",
    "        res.append(lst)\n",
    "    np.save(\"lev_ratio_attack_URL\", np.array(res))\n",
    "\n",
    "end = time.time()\n",
    "print(\"Elapsed = %s\" % (end - start))\n"
   ],
   "metadata": {
    "collapsed": false,
    "pycharm": {
     "name": "#%%\n"
    }
   }
  }
 ],
 "metadata": {
  "kernelspec": {
   "display_name": "Python 3",
   "language": "python",
   "name": "python3"
  },
  "language_info": {
   "codemirror_mode": {
    "name": "ipython",
    "version": 2
   },
   "file_extension": ".py",
   "mimetype": "text/x-python",
   "name": "python",
   "nbconvert_exporter": "python",
   "pygments_lexer": "ipython2",
   "version": "2.7.6"
  }
 },
 "nbformat": 4,
 "nbformat_minor": 0
}