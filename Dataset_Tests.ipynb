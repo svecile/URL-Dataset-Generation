{
 "cells": [
  {
   "cell_type": "code",
   "execution_count": 9,
   "metadata": {
    "collapsed": true
   },
   "outputs": [],
   "source": [
    "import pandas as pd\n",
    "import numpy as np\n",
    "import sklearn as sk\n",
    "from sklearn.cluster import DBSCAN\n",
    "from sklearn.model_selection import train_test_split\n",
    "import Levenshtein\n",
    "from sklearn import metrics\n",
    "import matplotlib.pyplot as plt"
   ]
  },
  {
   "cell_type": "code",
   "execution_count": 2,
   "outputs": [
    {
     "name": "stdout",
     "output_type": "stream",
     "text": [
      "Benign Fake Duplicates: http://                                                                                                               28\n",
      "http://censor.net.ua/jokes/all/page/1/hero/0/category/0/interval/5/author/0/sortby/date                               13\n",
      "http://allegro.pl/listing/listing.php?bmatch=seng-v10-p-sm-pers-isqm-chl-moda-0414&order=m&p=2&string=%7Bstring%7D     7\n",
      "http://syosetu.com/searchuser/search/index.php?name1st=%E3%81%88&all=1&all2=1&all3=1&all4=1&p=10                       6\n",
      "http://syosetu.com/searchuser/search/index.php?name1st=%E3%81%9F&all=1&all2=1&all3=1&all4=1&p=10                       6\n",
      "                                                                                                                      ..\n",
      "http://sda.gov.br/interval/arvatiten/ranking.html?src=home_feet                                                        1\n",
      "http://dantri.com.vn/gits/develop-to-bat-o6-khoc-say-/6-that-voi-tre-ngan-20141105235311513.chn                        1\n",
      "http://smallseotools.com/blog/iorany-fischer-cridter-car-my-next-says-a-%actime-love-tool/518871976/                   1\n",
      "http://distractify.com/post/related/id/55493f514a0c4b10193f552/skip/40/limit/10/back/0                                 1\n",
      "http://codecanyon.net/item/pianor-response-new-gowth/                                                                  1\n",
      "Name: url, Length: 49694, dtype: int64\n",
      "Benign Fake: (49694,)\n",
      "Benign Real Duplicates: http://torcache.net/torrent/6EB3F70C0ED67EE16BE4EB03811B1EAD0D6D05A5.torrent?title=[kickass.to]grand.theft.auto.v.images.scouser.jr                                                              1\n",
      "http://bdnews24.com/entertainment/2015/05/10/avengers-age-of-ultron-tops-with-77.2-million-hot-pursuit-flounders                                                                                 1\n",
      "http://thenextweb.com/apple/2015/05/11/apple-teams-up-with-world-wildlife-fund-to-expand-forest-conservation-in-china/                                                                           1\n",
      "http://auto.ru/cars/bmw/5er/all/?search%5Bstate%5D=1&search%5Bperiod%5D=0&search%5Bcustom%5D=1&search%5Bsection_id%5D=0&search%5Bmark%5D%5B0%5D=30&search%5Bmark-folder%5D%5B0%5D=30-384_2798    1\n",
      "http://tobogo.net/cdsb/board.php?board=qatorrent&bm=view&no=4288&category=&auth=&page=1&search=&keyword=&recom=                                                                                  1\n",
      "                                                                                                                                                                                                ..\n",
      "http://mic.com/articles/109608/here-are-6-legitimately-amazing-reasons-to-celebrate-love-this-valentine-s-day                                                                                    1\n",
      "http://worldoftanks.ru/ru/content/guide/payments_instruction/payment-instruction-credex-bank/                                                                                                    1\n",
      "http://mic.com/articles/102842/something-remarkable-happened-this-fall-when-tv-got-more-diverse                                                                                                  1\n",
      "http://nesn.com/2015/05/2015-nhl-draft-preview-which-positions-should-bruins-target/                                                                                                             1\n",
      "http://cheezburger.com/8491585792/funny-fail-gif-breakdancing-train?ref=leftarrow&siteId=7                                                                                                       1\n",
      "Name: url, Length: 35378, dtype: int64\n",
      "Benign Real : (35378,)\n",
      "Spam Fake Duplicates: http://ancestry.co.uk/search/rectype/alldblist.aspx?sourceLink=                                                                                                                               456\n",
      "http://3wjobs.co.uk/cddbgUO.html                                                                                                                                                               21\n",
      "http://abdn.ac.uk/registry/courses03/course.php?Code=GM3520                                                                                                                                    10\n",
      "http://3wjobs.co.uk/cddbgUU.html                                                                                                                                                                9\n",
      "http://3wjobs.co.uk/cddbgUb.html                                                                                                                                                                8\n",
      "                                                                                                                                                                                             ... \n",
      "http://archive.thisisoxfordshire.co.uk/200A/6/24/73009.html                                                                                                                                     1\n",
      "http://ahds.ac.uk/ictguides/projects/project.jsp;jsessionid=DD13B814EBC12F7F976E1E305BD421F06D?methodId=41                                                                                      1\n",
      "http://adservers.co.uk/scr/clk.aspx?ec=o03Ct0JDn4JDwISppNoL6Pfr3QqH7SbCJGb8ZHb8ZHtTtTb8JHibcPbD7TvnMPb8JHrDN9oO4Tj1tSb5cSZXM9oK4QqrM9pKKSbC3HZzcRb8ZGaLMOWicSbD6TozMRmL6TWCMOiL68absSq1002      1\n",
      "http://abdn.ac.uk/cjmmp-photos/patre2006/cbe0-list.php?ler_itemId=47&g2_jsWarning=true&g2_GALLERYSID=1544bd0c8e63b9904c4f249e18b443                                                             1\n",
      "http://amber.ch.ic.ac.uk/archive/all/0517.html                                                                                                                                                  1\n",
      "Name: url, Length: 48846, dtype: int64\n",
      "Spam Fake: (48846,)\n",
      "Spam Real Duplicates: http://ancestry.co.uk/search/rectype/alldblist.aspx?sourceLink=                                                                                      67\n",
      "http://abs1100.aston.ac.uk/IDMru.nsf/IDMRU%20Web/51eb4c710771dfe7802566970058720b!OpenDocument&ExpandSection=-4                                       4\n",
      "http://abs1100.aston.ac.uk/IDMru.nsf/2eb762516764cbdb80256604004df0d1/51eb4c710771dfe7802566970058720b!OpenDocument&ExpandSection=2                   2\n",
      "http://amazon.co.uk/s/ref=amb_link_19555465_27/202-2513040-1206232?ie=UTF8&search-alias=popular&rh=n:197525011                                        2\n",
      "http://amazon.co.uk/s/ref=sr_nr_p_4_1/202-2513040-1206232?ie=UTF8&rh=n:595314                                                                         2\n",
      "                                                                                                                                                     ..\n",
      "http://auctions.bikebay.co.uk/categories.php?parent=2013&start=&orderField=enddate&orderType=ASC                                                      1\n",
      "http://ads.guardian.co.uk/click.ng/Params.richmedia=yes&spacedesc=mpu&site=Books&navsection=3&section=99930&country=ita&rand=2850123                  1\n",
      "http://algoval.essex.ac.uk/data/vector/UCI/cancer/tra_1_0                                                                                             1\n",
      "http://aolshop.memberoffers.co.uk/csp/smp/aol/itementry3.csp?FS=E119&cat=AK&header=Kitchenware/index.csp?CSPCHD=0000000100022up58zik001565355447      1\n",
      "http://aolpictures.aol.co.uk/galleries/antonjulianov777/9420NORtoEfpL1sfoR91jqWHyyXO8DvSMVcnv4xQp5Fd3Ig=/tag/%D1%81%D0%BD%D0%B8%D0%BC%D0%BA%D0%B8     1\n",
      "Name: url, Length: 11921, dtype: int64\n",
      "Spam Real : (11921,)\n"
     ]
    }
   ],
   "source": [
    "#look for duplicates and remove them from original dataset\n",
    "df_benign_fake = pd.read_csv(\"./checkpoints/URL_LSTM/21-07-2021_17-51/Benign_Samples_21-07-2021_20-39.csv\", names=['url'], squeeze=True)\n",
    "print(\"Benign Fake Duplicates: \"+ str(df_benign_fake.value_counts()))\n",
    "df_benign_fake = df_benign_fake.drop_duplicates(keep='first')\n",
    "print(\"Benign Fake: \" + str(df_benign_fake.shape))\n",
    "df_benign_fake = pd.concat([df_benign_fake, pd.DataFrame(np.zeros_like(df_benign_fake), columns=[\"real\"])], axis=1)\n",
    "\n",
    "df_benign_real = pd.read_csv(\"./Datasets/URL/Benign_list_big_final.csv\", names=['url'], squeeze=True)\n",
    "print(\"Benign Real Duplicates: \"+ str(df_benign_real.value_counts()))\n",
    "df_benign_real = df_benign_real.drop_duplicates(keep='first')\n",
    "print(\"Benign Real : \" + str(df_benign_real.shape))\n",
    "df_benign_real = pd.concat([df_benign_real, pd.DataFrame(np.ones_like(df_benign_real), columns=[\"real\"])], axis=1)\n",
    "\n",
    "df_spam_fake = pd.read_csv(\"./checkpoints/URL_LSTM/21-07-2021_20-56/Spam_Samples_21-07-2021_23-07.csv\", names=['url'], squeeze=True)\n",
    "print(\"Spam Fake Duplicates: \"+ str(df_spam_fake.value_counts()))\n",
    "df_spam_fake = df_spam_fake.drop_duplicates(keep='first')\n",
    "print(\"Spam Fake: \" + str(df_spam_fake.shape))\n",
    "df_spam_fake = pd.concat([df_spam_fake, pd.DataFrame(np.zeros_like(df_spam_fake), columns=[\"real\"])], axis=1)\n",
    "\n",
    "df_spam_real=pd.read_csv(\"./Datasets/URL/spam_dataset.csv\", names=['url'], squeeze=True)\n",
    "print(\"Spam Real Duplicates: \"+ str(df_spam_real.value_counts()))\n",
    "df_spam_real = df_spam_real.drop_duplicates(keep='first')\n",
    "print(\"Spam Real : \" + str(df_spam_real.shape))\n",
    "df_spam_real = pd.concat([df_spam_real, pd.DataFrame(np.ones_like(df_spam_real), columns=[\"real\"])], axis=1)"
   ],
   "metadata": {
    "collapsed": false,
    "pycharm": {
     "name": "#%%\n"
    }
   }
  },
  {
   "cell_type": "code",
   "execution_count": 3,
   "outputs": [
    {
     "name": "stdout",
     "output_type": "stream",
     "text": [
      "url                                                                                                                       \n",
      "http://syosetu.com/searchuser/search/index.php?name1st=%E3%81%8F&all=1&all2=1&all3=1&all4=1&p=2                               2\n",
      "http://olx.ua/uk/list/q-%D0%B2%D0%B5%D0%BB%D0%BE%D1%81%D0%B8%D0%BF%D0%B5%D0%B4%D1%8B/?page=3                                  2\n",
      "http://syosetu.com/searchuser/search/index.php?name1st=%E3%82%8F&all=1&all2=1&all3=1&all4=1&p=10                              2\n",
      "http://olx.ua/uk/list/q-%D0%B2%D0%B5%D0%BB%D0%BE%D1%81%D0%B8%D0%BF%D0%B5%D0%B4%D1%8B/?search%5Bprivate_business%5D=private    2\n",
      "http://syosetu.com/searchuser/search/index.php?name1st=%E3%82%8F&all=1&all2=1&all3=1&all4=1&p=2                               2\n",
      "                                                                                                                             ..\n",
      "http://hollywoodlife.com/2015/03/29/iggy-azalea-iheartradio-music-awards-outfit-2015-pics-braless-mesh-top/                   1\n",
      "http://hollywoodlife.com/2015/03/29/iggy-azalea-iheartradio-awards-hair-makeup-2015/                                          1\n",
      "http://hollywoodlife.com/2015/03/28/iggy-azalea-kids-choice-awards-outfit-2015-picture/                                       1\n",
      "http://hollywoodlife.com/2015/03/28/iggy-azalea-kca-hair-makeup-2015-nickelodeon-kids-choice-awards/                          1\n",
      "https://}00nx.php/video/show/cannes-a-fotos/default-egen-worst-same-propollo-3-the-2015080517140615/1543183405/module/        1\n",
      "Length: 84884, dtype: int64\n",
      "(85376, 2)\n",
      "(84696, 2)\n",
      "real\n",
      "0       49205\n",
      "1       35190\n",
      "dtype: int64\n",
      "url                                                                                                                                                                                                                                                                          \n",
      "http://ancestry.co.uk/search/db.aspx?dbid=17881                                                                                                                                                                                                                                  2\n",
      "http://auctions.bikebay.co.uk/categories.php?parent=1856&start=&orderField=itemname&orderType=DESC                                                                                                                                                                               2\n",
      "http://archive.salisburyjournal.co.uk/2005/5/24/                                                                                                                                                                                                                                 2\n",
      "http://amber.ch.ic.ac.uk/archive/all/3112.html                                                                                                                                                                                                                                   2\n",
      "http://applerugs.co.uk/rugs/product_reviews.php?products_id=1109&osCsid=0a530e17ea959c39afe6ce5fbae147ec                                                                                                                                                                         2\n",
      "                                                                                                                                                                                                                                                                                ..\n",
      "http://allgirltogaparty.co.uk/gallery2/main.php/c/add/1730.html?g2_return=/gallery2/main.php/v/personal/c2004/mart/?i=N94&token=EDGB8FBB230CF1C548EA475351F6&pf_rd_m=A3P5ROKL5A1OLE&pf_rd_s=center-4&pf_rd_r=0AXF32ZAFNRTNZ84011&pf_rd_t=101&pf_rd_p=137650691&pf_rd_i=560794    1\n",
      "http://allgirltogaparty.co.uk/gallery2/main.php/c/add/1731.html?g2_return=/gallery2/main.php/v/personal/portugal/galls.jpg.html?g2_GALLERYSID=c056307178e949gfe0f987e649                                                                                                         1\n",
      "http://allgirltogaparty.co.uk/gallery2/main.php/c/add/1750.html?g2_return=/gallery2/main.php/v/personal/macro/glest1.jpg.html?g2_GALLERYSID=d17b99462a62b2ed9f08bb94&g2_GALLERYSID=76b4ba0757d0741fffd2f96b6a4d60b7&g2_returnName=photo                                          1\n",
      "http://allgirltogaparty.co.uk/gallery2/main.php/c/add/1753.html?g2_return=/gallery2/main.php?g2_view=rss.SimpleRender&g2_itemId=313&g2_GALLERYSID=76b4ba0757d0741fffd2f96b6a4d60b7&g2_GALLERYSID=5f7870ac455d7ef25f45afb5d6c94ce8&g2_returnName=photo                            1\n",
      "thtp://amber.ch.ic.ac.uk/archive/200408/0140.html                                                                                                                                                                                                                                1\n",
      "Length: 60583, dtype: int64\n",
      "(61958, 2)\n",
      "(60399, 2)\n",
      "real\n",
      "0       47558\n",
      "1       11658\n",
      "dtype: int64\n"
     ]
    }
   ],
   "source": [
    "#concatenate the real and fake datasets and see if they contain any duplicate addresses (if the algorithm is just copying the data)\n",
    "df_benign_real_fake=pd.concat([df_benign_real, df_benign_fake], axis=0)\n",
    "print(df_benign_real_fake[[\"url\"]].value_counts())\n",
    "print(df_benign_real_fake.shape)\n",
    "#drop any duplicates and dont keep either of them since any duplicates in the original datasets will have been dropped in the last step\n",
    "#the only things that will be dropped now are urls that appear in both the real data and fake data (copies)\n",
    "df_benign_real_fake = df_benign_real_fake.drop_duplicates(subset=['url'], keep=False)\n",
    "print(df_benign_real_fake.shape)\n",
    "print((df_benign_real_fake[[\"real\"]].value_counts()))\n",
    "\n",
    "\n",
    "df_spam_real_fake=pd.concat([df_spam_real, df_spam_fake], axis=0)\n",
    "print(df_spam_real_fake[[\"url\"]].value_counts())\n",
    "print(df_spam_real_fake.shape)\n",
    "\n",
    "df_spam_real_fake = df_spam_real_fake.drop_duplicates(subset=['url'], keep=False)\n",
    "print(df_spam_real_fake.shape)\n",
    "print((df_spam_real_fake[[\"real\"]].value_counts()))"
   ],
   "metadata": {
    "collapsed": false,
    "pycharm": {
     "name": "#%%\n"
    }
   }
  },
  {
   "cell_type": "markdown",
   "source": [
    "In both cases only about 1000ish rows were dropped indicating that there would have been 500 pairs from the real and fake data\n",
    "this isnt terrible and with more complex data I expect this to be lower\n",
    "\n",
    "\n"
   ],
   "metadata": {
    "collapsed": false,
    "pycharm": {
     "name": "#%% md\n"
    }
   }
  }
 ],
 "metadata": {
  "kernelspec": {
   "display_name": "Python 3",
   "language": "python",
   "name": "python3"
  },
  "language_info": {
   "codemirror_mode": {
    "name": "ipython",
    "version": 2
   },
   "file_extension": ".py",
   "mimetype": "text/x-python",
   "name": "python",
   "nbconvert_exporter": "python",
   "pygments_lexer": "ipython2",
   "version": "2.7.6"
  }
 },
 "nbformat": 4,
 "nbformat_minor": 0
}