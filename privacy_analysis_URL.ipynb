{
 "cells": [
  {
   "cell_type": "code",
   "execution_count": 7,
   "outputs": [],
   "source": [
    "import Levenshtein\n",
    "import numpy as np\n",
    "import pandas as pd\n",
    "import matplotlib.pyplot as plt"
   ],
   "metadata": {
    "collapsed": false,
    "pycharm": {
     "name": "#%%\n"
    }
   }
  },
  {
   "cell_type": "code",
   "execution_count": 8,
   "outputs": [
    {
     "name": "stdout",
     "output_type": "stream",
     "text": [
      "(48890, 4)\n",
      "['http://vnexpress.net/profisi/%D8%A7%D9%84%D8%A3%D9%83%D9%88%D9%8C%D8%A9-%D8%AC%D8%B2%D8%A7%D8%B9'\n",
      " 0.7032967032967034\n",
      " 'http://babal.net/news/248/%D8%A7%D9%84%D8%A7%D8%B3%D9%83%D9%86%D8%AF%D8%B1%D9%8A%D8%A9'\n",
      " 0]\n",
      "                                                   0    1  \\\n",
      "0  http://thenextweb.com/apps/2014/10/21/send-qui...  1.0   \n",
      "1  http://olx.ua/uk/list/q-%D0%B1%D0%BE%D1%81%D0%...  1.0   \n",
      "2  http://olx.ua/uk/list/q-%D0%B2%D0%B5%D0%BB%D0%...  1.0   \n",
      "3  http://distractify.com/post/related/id/55538e1...  1.0   \n",
      "4  http://tobogo.net/cdsb/board.php?board=dailyst...  1.0   \n",
      "\n",
      "                                                   2   3  \n",
      "0  http://thenextweb.com/apps/2014/10/21/send-qui...   3  \n",
      "1  http://olx.ua/uk/list/q-%D0%B1%D0%BE%D1%81%D0%...   1  \n",
      "2  http://olx.ua/uk/list/q-%D0%B2%D0%B5%D0%BB%D0%...  11  \n",
      "3  http://distractify.com/post/related/id/55538e1...  57  \n",
      "4  http://tobogo.net/cdsb/board.php?board=dailyst...  33  \n",
      "max       1.000000\n",
      "min       0.155556\n",
      "mean      0.671941\n",
      "median    0.634921\n",
      "Name: 1, dtype: float64\n"
     ]
    },
    {
     "data": {
      "text/plain": "<Figure size 432x288 with 1 Axes>",
      "image/png": "[encoded data removed]"
     },
     "metadata": {
      "needs_background": "light"
     },
     "output_type": "display_data"
    }
   ],
   "source": [
    "loaded_array = np.load(\"../checkpoints/URL_LSTM/11-29-2021/Benign/lev_ratio_benign_URL.npy\", allow_pickle=True)\n",
    "\n",
    "all_dists = loaded_array[0]\n",
    "for i in range(1, len(loaded_array)):\n",
    "    all_dists = np.concatenate((all_dists,loaded_array[i]),axis=0)\n",
    "\n",
    "print(all_dists.shape)\n",
    "print(all_dists[0])\n",
    "\n",
    "lev_dists_df = pd.DataFrame(all_dists).sort_values(by=[1], ascending=False).reset_index(drop=True)\n",
    "print(lev_dists_df.head())\n",
    "\n",
    "plt.hist(all_dists[:,1], bins=40)\n",
    "\n",
    "print(lev_dists_df[1].agg(['max', 'min', 'mean', 'median']))"
   ],
   "metadata": {
    "collapsed": false,
    "pycharm": {
     "name": "#%%\n"
    }
   }
  },
  {
   "cell_type": "code",
   "execution_count": 9,
   "outputs": [
    {
     "name": "stdout",
     "output_type": "stream",
     "text": [
      "(2253, 4)\n",
      "(40541, 4)\n",
      "['http://9779.info/%E5%B9%BC%E5%84%BF%E5%9B%AD%E8%83%8C%E6%99%AF%E5%A2%99%E5%89%AA%E8%B4%B4%E7%94%BB/'\n",
      " 1.0\n",
      " 'http://9779.info/%E5%B9%BC%E5%84%BF%E5%9B%AD%E8%83%8C%E6%99%AF%E5%A2%99%E5%89%AA%E8%B4%B4%E7%94%BB/'\n",
      " 112]\n",
      "                                                   0    1  \\\n",
      "0  http://9779.info/%E5%B9%BC%E5%84%BF%E5%9B%AD%E...  1.0   \n",
      "1  http://us.battle.net.en.zzweb.asia/login/en/lo...  1.0   \n",
      "2  http://us.battle.net.login.en.ppweb.asia/login...  1.0   \n",
      "3  http://9779.info/%E8%A1%8D%E7%BA%B8%E8%B4%B4%E...  1.0   \n",
      "4  http://9779.info/%E5%B9%BC%E5%84%BF%E6%89%8B%E...  1.0   \n",
      "\n",
      "                                                   2    3  \n",
      "0  http://9779.info/%E5%B9%BC%E5%84%BF%E5%9B%AD%E...  112  \n",
      "1  http://us.battle.net.en.zzweb.asia/login/en/lo...   57  \n",
      "2  http://us.battle.net.login.en.ppweb.asia/login...   11  \n",
      "3  http://9779.info/%E8%A1%8D%E7%BA%B8%E8%B4%B4%E...  133  \n",
      "4  http://9779.info/%E5%B9%BC%E5%84%BF%E6%89%8B%E...   88  \n",
      "max       1.000000\n",
      "min       0.150666\n",
      "mean      0.785913\n",
      "median    0.796209\n",
      "Name: 1, dtype: float64\n"
     ]
    },
    {
     "data": {
      "text/plain": "<Figure size 432x288 with 1 Axes>",
      "image/png": "[encoded data removed]"
     },
     "metadata": {
      "needs_background": "light"
     },
     "output_type": "display_data"
    }
   ],
   "source": [
    "loaded_array = np.load(\"../checkpoints/URL_LSTM/11-29-2021/Attack/lev_ratio_attack_URL.npy\", allow_pickle=True)\n",
    "print(loaded_array[0].shape)\n",
    "\n",
    "all_dists = loaded_array[0]\n",
    "for i in range(1, len(loaded_array)):\n",
    "    all_dists = np.concatenate((all_dists,loaded_array[i]),axis=0)\n",
    "\n",
    "print(all_dists.shape)\n",
    "print(all_dists[0])\n",
    "\n",
    "lev_dists_df = pd.DataFrame(all_dists).sort_values(by=[1], ascending=False).reset_index(drop=True)\n",
    "print(lev_dists_df.head())\n",
    "\n",
    "plt.hist(all_dists[:,1], bins=40)\n",
    "\n",
    "print(lev_dists_df[1].agg(['max', 'min', 'mean', 'median']))"
   ],
   "metadata": {
    "collapsed": false,
    "pycharm": {
     "name": "#%%\n"
    }
   }
  },
  {
   "cell_type": "code",
   "execution_count": 9,
   "metadata": {
    "collapsed": true
   },
   "outputs": [],
   "source": []
  }
 ],
 "metadata": {
  "kernelspec": {
   "display_name": "Python 3",
   "language": "python",
   "name": "python3"
  },
  "language_info": {
   "codemirror_mode": {
    "name": "ipython",
    "version": 2
   },
   "file_extension": ".py",
   "mimetype": "text/x-python",
   "name": "python",
   "nbconvert_exporter": "python",
   "pygments_lexer": "ipython2",
   "version": "2.7.6"
  }
 },
 "nbformat": 4,
 "nbformat_minor": 0
}