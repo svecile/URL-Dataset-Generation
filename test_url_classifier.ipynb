{
 "cells": [
  {
   "cell_type": "code",
   "execution_count": 1,
   "metadata": {
    "collapsed": true
   },
   "outputs": [
    {
     "name": "stdout",
     "output_type": "stream",
     "text": [
      "True\n"
     ]
    }
   ],
   "source": [
    "import torch\n",
    "import torch.nn as nn\n",
    "import pandas as pd\n",
    "import numpy as np\n",
    "\n",
    "from matplotlib import pyplot as plt\n",
    "from sklearn.metrics import ConfusionMatrixDisplay, confusion_matrix\n",
    "from tqdm import tqdm\n",
    "\n",
    "from torch.nn import Embedding, LSTM\n",
    "from torch.nn.utils.rnn import pack_padded_sequence\n",
    "\n",
    "# Device configuration\n",
    "cuda = False\n",
    "if torch.cuda.is_available():\n",
    "    cuda = True\n",
    "\n",
    "print(cuda)\n",
    "torch.set_printoptions(threshold=1000)\n"
   ]
  },
  {
   "cell_type": "markdown",
   "source": [
    "The code here is to evaluate classifier models using two different methods. Fisrt the classifier that was trained on the real data is tested tested on the Synthetic data and the other is the classifier that was trained on the synthetic data is tested on the real data."
   ],
   "metadata": {
    "collapsed": false,
    "pycharm": {
     "name": "#%% md\n"
    }
   }
  },
  {
   "cell_type": "code",
   "execution_count": 2,
   "outputs": [
    {
     "name": "stdout",
     "output_type": "stream",
     "text": [
      "[['http://vnexpress.net/profisi/%D8%A7%D9%84%D8%A3%D9%83%D9%88%D9%8C%D8%A9-%D8%AC%D8%B2%D8%A7%D8%B9'\n",
      "  0]\n",
      " ['http://livetv.sx/internet/35067/video-adstrape-and-wrepping-life/' 0]\n",
      " ['http://codecanyon.net/item/mikmode-mits-to-joel-mariney-creative-your-wordpress-theme/full_screen_preview/10052668'\n",
      "  0]\n",
      " ...\n",
      " ['http://gizmodo.com/5982184/brother-customer-service-background-the-ractical-for-ownin-agents-contract-success/'\n",
      "  0]\n",
      " ['http://olx.ro/i2/electronice-si-electrocasnice/laptop-calculator/imprimante-scannere-copiatoare/gtm.start'\n",
      "  0]\n",
      " ['https://lastpass.com/midingdoBup.org/Nampieseglatatoru.com.480p.webrip.korsub.xvid.mp3.rarbg'\n",
      "  0]]\n",
      "(48890, 2)\n",
      "[['http://9779.info/%E5%B9%BC%E5%84%BF%E5%9B%AD%E8%83%8C%E6%99%AF%E5%A2%99%E5%89%AA%E8%B4%B4%E7%94%BB/'\n",
      "  1]\n",
      " ['http://us.battle.net.en.ujc-desite/common.htm' 1]\n",
      " ['http://www.googledoc.com/auctionnet.org/cadastro/adesao.do.php' 1]\n",
      " ...\n",
      " ['http://logify1jium.blogspot.com/' 1]\n",
      " ['http://ebay-persselitsa.work.com/transpact/views/' 1]\n",
      " ['http://aela1' 1]]\n",
      "(40541, 2)\n",
      "[['http://1337x.to/torrent/1048648/American-Sniper-2014-MD-iTALiAN-DVDSCR-X264-BST-MT/'\n",
      "  0]\n",
      " ['http://1337x.to/torrent/1110018/Blackhat-2015-RUSSIAN-720p-WEB-DL-DD5-1-H264-RUFGT/'\n",
      "  0]\n",
      " ['http://1337x.to/torrent/1122940/Blackhat-2015-x264-1080p-WEB-DL-eng-nl-subs-sharky/'\n",
      "  0]\n",
      " ...\n",
      " ['https://lastpass.com/signup2.php?ac=1&from_uri=%2Fsignup2.php%3Fac%3D1%26from_uri%3D%252Fsignup2.php%253Fac%253D1%2526from_uri%253D%25252Fsignup2.php%25253Fac%25253D1%252526from_uri%25253D%2525252Fsignup2.php%2525253Fac%2525253D1%25252526from_uri%2525253D%252525252Fsignup2.php%252525253Fac%252525253D1%2525252526from_uri%252525253D%25252525252Fsignup2.php%25252525253Fac%25252525253D1%252525252526from_uri%25252525253D%2525252525252Fsignup2.php%2525252525253Fac%2525252525253D1%25252525252526from_uri%2525252525253D%252525252525252Fsignup2.php%252525252525253Fac%252525252525253D1%2525252525252526from_uri%252525252525253D%25252525252525252Fsignup2.php%25252525252525253Fac%25252525252525253D1%252525252525252526from_uri%25252525252525253D%2525252525252525252Fsignup2.php%2525252525252525253Fac%2525252525252525253D1%25252525252525252526from_uri%2525252525252525253D%252525252525252525252Fsignup2.php%252525252525252525253Fac%252525252525252525253D1%2525252525252525252526from_uri%252525252525252525253D%25252525252525252525252Fsignup2.php%25252525252525252525253Fac%25252525252525252525253D1%252525252525252525252526from_uri%25252525252525252525253D%2525252525252525252525252Fsignup2.php%2525252525252525252525253Fac%2525252525252525252525253D1%25252525252525252525252526from_uri%2525252525252525252525253D%252525252525252525252525252Fsignup2.php%252525252525252525252525253Fac%252525252525252525252525253D1%2525252525252525252525252526from_uri%252525252525252525252525253D%25252525252525252525252525252Fsignup2.php'\n",
      "  0]\n",
      " ['https://lastpass.com/signup2.php?ac=1&from_uri=%2Fsignup2.php%3Fac%3D1%26from_uri%3D%252Fsignup2.php%253Fac%253D1%2526from_uri%253D%25252Fsignup2.php%25253Fac%25253D1%252526from_uri%25253D%2525252Fsignup2.php%2525253Fac%2525253D1%25252526from_uri%2525253D%252525252Fsignup2.php%252525253Fac%252525253D1%2525252526from_uri%252525253D%25252525252Fsignup2.php%25252525253Fac%25252525253D1%252525252526from_uri%25252525253D%2525252525252Fsignup2.php%2525252525253Fac%2525252525253D1%25252525252526from_uri%2525252525253D%252525252525252Fsignup2.php%252525252525253Fac%252525252525253D1%2525252525252526from_uri%252525252525253D%25252525252525252Fsignup2.php%25252525252525253Fac%25252525252525253D1%252525252525252526from_uri%25252525252525253D%2525252525252525252Fsignup2.php%2525252525252525253Fac%2525252525252525253D1%25252525252525252526from_uri%2525252525252525253D%252525252525252525252Fsignup2.php%252525252525252525253Fac%252525252525252525253D1%2525252525252525252526from_uri%252525252525252525253D%25252525252525252525252Fsignup2.php%25252525252525252525253Fac%25252525252525252525253D1%252525252525252525252526from_uri%25252525252525252525253D%2525252525252525252525252Fsignup2.php%2525252525252525252525253Fac%2525252525252525252525253D1%25252525252525252525252526from_uri%2525252525252525252525253D%252525252525252525252525252Fsignup2.php%252525252525252525252525253Fac%252525252525252525252525253D1%2525252525252525252525252526from_uri%252525252525252525252525253D%25252525252525252525252525252Fsignup2.php%25252525252525252525252525253Fac%25252525252525252525252525253D1%252525252525252525252525252526from_uri%25252525252525252525252525253D%2525252525252525252525252525252Fsignup2.php'\n",
      "  0]\n",
      " ['https://asana.com/guide/videos/%22//fast.wistia.net/embed/iframe/nfi3dx4h43?plugin%5Bchapters%5D%5Bch_1_title%5D=Intro%3A%20Workspace%20or%20Organization%3F&plugin%5Bchapters%5D%5Bch_1_time%5D=15&plugin%5Bchapters%5D%5Bch_2_title%5D=My%20Tasks%20and%20Inbox&plugin%5Bchapters%5D%5Bch_2_time%5D=63&plugin%5Bchapters%5D%5Bch_3_title%5D=Today%2C%20Upcoming%2C%20and%20Later&plugin%5Bchapters%5D%5Bch_3_time%5D=96&plugin%5Bchapters%5D%5Bch_4_title%5D=Inbox&plugin%5Bchapters%5D%5Bch_4_time%5D=112&plugin%5Bchapters%5D%5Bch_5_title%5D=Turn%20off%20activity%20Emails&plugin%5Bchapters%5D%5Bch_5_time%5D=145&plugin%5Bchapters%5D%5Bch_6_title%5D=Hierarchy%20in%20Asana&plugin%5Bchapters%5D%5Bch_6_time%5D=165&plugin%5Bchapters%5D%5Bch_7_title%5D=Sections&plugin%5Bchapters%5D%5Bch_7_time%5D=220&plugin%5Bchapters%5D%5Bch_8_title%5D=Account%20Settings&plugin%5Bchapters%5D%5Bch_8_time%5D=256&plugin%5Bchapters%5D%5Bch_9_title%5D=Team%20Membership&plugin%5Bchapters%5D%5Bch_9_time%5D=282&plugin%5Bchapters%5D%5Bch_10_title%5D=Members%20vs.%20Guests&plugin%5Bchapters%5D%5Bch_10_time%5D=320&plugin%5Bchapters%5D%5Bch_11_title%5D=Inviting%20Guests&plugin%5Bchapters%5D%5Bch_11_time%5D=407&plugin%5Bchapters%5D%5Bch_12_title%5D=Project%20Options&plugin%5Bchapters%5D%5Bch_12_time%5D=505&plugin%5Bchapters%5D%5Bch_13_title%5D=Project%20Sort%20Views&plugin%5Bchapters%5D%5Bch_13_time%5D=612&plugin%5Bchapters%5D%5Bch_14_title%5D=Task%20Pane%20Options&plugin%5Bchapters%5D%5Bch_14_time%5D=661&plugin%5Bchapters%5D%5Bch_15_title%5D=Followers%20and%20Notifications&plugin%5Bchapters%5D%5Bch_15_time%5D=784&plugin%5Bchapters%5D%5Bch_16_title%5D=Specific%20Features%3A%20Hypertext&plugin%5Bchapters%5D%5Bch_16_time%5D=821&plugin%5Bchapters%5D%5Bch_17_title%5D=Multi-Home%20Tasks&plugin%5Bchapters%5D%5Bch_17_time%5D=958&plugin%5Bchapters%5D%5Bch_18_title%5D=Search%20Views&plugin%5Bchapters%5D%5Bch_18_time%5D=1089&plugin%5Bchapters%5D%5Bch_19_title%5D=Batch%20Actions%20&plugin%5Bchapters%5D%5Bch_19_time%5D=1231&plugin%5Bchapters%5D%5Bch_20_title%5D=Keyboard%20Shortcuts&plugin%5Bchapters%5D%5Bch_20'\n",
      "  0]]\n",
      "(35378, 2)\n",
      "[['http://astore.amazon.co.uk/allezvinsfrenchr/detail/1904010202/026-8324244-9330038'\n",
      "  1]\n",
      " ['http://archive.salisburyjournal.co.uk/2007/3/6/306369.html' 1]\n",
      " ['http://appbasic.jettons.co.uk/links/index.html' 1]\n",
      " ...\n",
      " ['http://liuheng.chengxuren.com/Images/' 1]\n",
      " ['http://mcnaotempreco.net/site/portal/' 1]\n",
      " ['http://missionaryfilms.org/index.html' 1]]\n",
      "(24568, 2)\n"
     ]
    }
   ],
   "source": [
    "#load fake data\n",
    "df_benign_fake = pd.read_csv(\"../checkpoints/URL_LSTM/11-29-2021/Benign/Benign_Samples_29-11-2021_13-13.csv\", header=None)\n",
    "df_spam_fake = pd.read_csv(\"../checkpoints/URL_LSTM/11-29-2021/Attack/Spam_Samples_29-11-2021_11-38.csv\", header=None, delimiter='\\t')\n",
    "\n",
    "df_benign_fake = df_benign_fake.drop_duplicates(keep='first')\n",
    "benign_urls_fake = np.c_[np.array(df_benign_fake.values), np.zeros_like(np.array(df_benign_fake.values))]\n",
    "print(benign_urls_fake)\n",
    "print(benign_urls_fake.shape)\n",
    "\n",
    "df_spam_fake = df_spam_fake.drop_duplicates(keep='first')\n",
    "spam_urls_fake = np.c_[np.array(df_spam_fake.values), np.ones_like(np.array(df_spam_fake.values))]\n",
    "print(spam_urls_fake)\n",
    "print(spam_urls_fake.shape)\n",
    "\n",
    "\n",
    "#load real data\n",
    "df_benign_real = pd.read_csv(\"../Datasets/URL/FinalDataset/URL/Benign_list_big_final.csv\", header=None)\n",
    "\n",
    "df1 = pd.read_csv(\"../Datasets/URL/FinalDataset/URL/spam_dataset.csv\", header=None)\n",
    "df3 = pd.read_csv(\"../Datasets/URL/FinalDataset/URL/Malware_dataset.csv\", header=None)\n",
    "df4 = pd.read_csv(\"../Datasets/URL/FinalDataset/URL/phishing_dataset.csv\", header=None)\n",
    "df_spam_real = pd.concat([df1, df3, df4], ignore_index=True)\n",
    "\n",
    "df_benign_real = df_benign_real.drop_duplicates(keep='first')\n",
    "benign_urls_real = np.c_[np.array(df_benign_real.values), np.zeros_like(np.array(df_benign_real.values))]\n",
    "print(benign_urls_real)\n",
    "print(benign_urls_real.shape)\n",
    "\n",
    "df_spam_real = df_spam_real.drop_duplicates(keep='first')\n",
    "spam_urls_real = np.c_[np.array(df_spam_real.values), np.ones_like(np.array(df_spam_real.values))]\n",
    "print(spam_urls_real)\n",
    "print(spam_urls_real.shape)\n"
   ],
   "metadata": {
    "collapsed": false,
    "pycharm": {
     "name": "#%%\n"
    }
   }
  },
  {
   "cell_type": "code",
   "execution_count": 3,
   "outputs": [
    {
     "name": "stdout",
     "output_type": "stream",
     "text": [
      "(89431, 2)\n",
      "('<pad>', ' ', '!', '#', '$', '%', '&', \"'\", '(', ')', '*', '+', ',', '-', '.', '/', '0', '1', '2', '3', '4', '5', '6', '7', '8', '9', ':', ';', '=', '?', '@', 'A', 'B', 'C', 'D', 'E', 'F', 'G', 'H', 'I', 'J', 'K', 'L', 'M', 'N', 'O', 'P', 'Q', 'R', 'S', 'T', 'U', 'V', 'W', 'X', 'Y', 'Z', '[', ']', '_', 'a', 'b', 'c', 'd', 'e', 'f', 'g', 'h', 'i', 'j', 'k', 'l', 'm', 'n', 'o', 'p', 'q', 'r', 's', 't', 'u', 'v', 'w', 'x', 'y', 'z', '{', '|', '}', '~', '\\x8d', '¸', 'ä', 'å', 'ø', 'Š', 'ˆ')\n",
      "(89364,) (89364,)\n",
      "[67, 79, 79, 75, 26, 15, 15, 81, 73, 64, 83, 75, 77, 64, 78, 78, 14, 73, 64, 79, 15, 75, 77, 74, 65, 68, 78, 68, 15, 5, 34, 24, 5, 31, 23, 5, 34, 25, 5, 24, 20, 5, 34, 24, 5, 31, 19, 5, 34, 25, 5, 24, 19, 5, 34, 25, 5, 24, 24, 5, 34, 25, 5, 24, 33, 5, 34, 24, 5, 31, 25, 13, 5, 34, 24, 5, 31, 33, 5, 34, 24, 5, 32, 18, 5, 34, 24, 5, 31, 23, 5, 34, 24, 5, 32, 25] 0\n"
     ]
    },
    {
     "name": "stderr",
     "output_type": "stream",
     "text": [
      "C:\\Users\\Spencer\\AppData\\Local\\Temp\\ipykernel_31500\\3820403428.py:29: VisibleDeprecationWarning: Creating an ndarray from ragged nested sequences (which is a list-or-tuple of lists-or-tuples-or ndarrays with different lengths or shapes) is deprecated. If you meant to do this, you must specify 'dtype=object' when creating the ndarray.\n",
      "  X_test, y_test = np.array(encoded), np.array(targets)\n"
     ]
    }
   ],
   "source": [
    "test_on_fake = True\n",
    "\n",
    "if test_on_fake:\n",
    "    urls = np.append(benign_urls_real, spam_urls_real, axis=0)\n",
    "    test_urls = np.append(benign_urls_fake, spam_urls_fake, axis=0)\n",
    "else:\n",
    "    urls = np.append(benign_urls_fake, spam_urls_fake, axis=0)\n",
    "    test_urls = np.append(benign_urls_real, spam_urls_real, axis=0)\n",
    "\n",
    "print(test_urls.shape)\n",
    "allURL = ''.join(urls[:, 0])\n",
    "chars = tuple(['<pad>'] + sorted(set(allURL)))  #find unique characters\n",
    "print(chars)\n",
    "\n",
    "int2char = dict(enumerate(chars))  #go over each unique char in the set and assign an int\n",
    "char2int = {ch: ii for ii, ch in int2char.items()}  #creates dictionary that maps char to integer (reverse of above)\n",
    "\n",
    "encoded, targets = [], []\n",
    "\n",
    "\n",
    "for url in test_urls:\n",
    "    #encode only the urls that are in the trained classifiers char set\n",
    "    if all((c in chars for c in url[0])):\n",
    "        encoded.append([char2int[ch] for ch in url[0]])\n",
    "        targets.append(url[1])\n",
    "    else:\n",
    "        continue\n",
    "\n",
    "X_test, y_test = np.array(encoded), np.array(targets)\n",
    "\n",
    "print(X_test.shape, y_test.shape)\n",
    "print(X_test[0], y_test[0])\n"
   ],
   "metadata": {
    "collapsed": false,
    "pycharm": {
     "name": "#%%\n"
    }
   }
  },
  {
   "cell_type": "code",
   "execution_count": 4,
   "outputs": [],
   "source": [
    "def get_batches(X, y, batch_size):\n",
    "    batches_X, batches_y, seq_lengths = [], [], []\n",
    "\n",
    "    for i in tqdm(range(int(len(X) / batch_size))):  #number of even batches\n",
    "        batch_X, batch_y, seq_lengths_batch = [], [], []\n",
    "\n",
    "        for r in range(i * batch_size, (i + 1) * batch_size):\n",
    "            seq_lengths_batch.append(len(X[r]))\n",
    "            batch_X.append(X[r])\n",
    "            batch_y.append(y[r])\n",
    "\n",
    "        maxLen = max(seq_lengths_batch)\n",
    "\n",
    "        text_in = torch.zeros((batch_size, maxLen))\n",
    "        target = torch.tensor(batch_y)\n",
    "\n",
    "        for r in range(batch_size):\n",
    "            for c in range(len(batch_X[r])):\n",
    "                text_in[r][c] = batch_X[r][c]\n",
    "\n",
    "        seq_lengths_batch, perm_idx = torch.tensor(seq_lengths_batch).sort(0,\n",
    "                                                                           descending=True)  #sort batch with longest sequence at the top\n",
    "        text_in = text_in[perm_idx]\n",
    "        target = target[perm_idx]\n",
    "\n",
    "        batches_X.append(text_in.long())\n",
    "        batches_y.append(target.float())\n",
    "        seq_lengths.append(seq_lengths_batch.long())\n",
    "\n",
    "    return batches_X, batches_y, seq_lengths\n",
    "\n",
    "class CharRNN(nn.Module):\n",
    "\n",
    "    def __init__(self, tokens, hidden_size=256, num_layers=2, lr=0.01):\n",
    "        super().__init__()\n",
    "\n",
    "        self.num_layers = num_layers\n",
    "        self.hidden_size = hidden_size\n",
    "        self.lr = lr\n",
    "        self.input_size = len(tokens)\n",
    "        self.output_size = 1  #since its binary classification\n",
    "\n",
    "        #create character dictionary\n",
    "        self.chars = tokens\n",
    "        self.int2char = dict(enumerate(self.chars))\n",
    "        self.char2int = {ch: ii for ii, ch in int2char.items()}\n",
    "\n",
    "        #define network\n",
    "        self.embed = Embedding(self.input_size, hidden_size, padding_idx=0)\n",
    "        self.lstm = LSTM(hidden_size, hidden_size, num_layers, batch_first=True)\n",
    "        self.fc = nn.Linear(hidden_size, self.output_size)\n",
    "\n",
    "        self.init_weights()\n",
    "\n",
    "    def forward(self, x, x_lengths):\n",
    "\n",
    "        embedded_input = self.embed(x)\n",
    "        packed_input = pack_padded_sequence(embedded_input, x_lengths.cpu().numpy(), batch_first=True)\n",
    "        packed_out, (hidden_state, cell_state) = self.lstm(packed_input)\n",
    "\n",
    "        out = self.fc(hidden_state)\n",
    "        return out\n",
    "\n",
    "    def predict(self, inputs, seq_lengths):\n",
    "\n",
    "        if cuda:\n",
    "            self.cuda()\n",
    "\n",
    "        h = self.forward(inputs, seq_lengths)\n",
    "        p = torch.sigmoid(h[-1, :, :].squeeze())\n",
    "\n",
    "        if cuda:\n",
    "            p = p.cpu()\n",
    "\n",
    "        return p\n",
    "\n",
    "    #Initialize weights for fully connected layer\n",
    "    def init_weights(self):\n",
    "\n",
    "        # Set bias tensor to all zeros\n",
    "        self.fc.bias.data.fill_(0)\n",
    "        # FC weights as random uniform\n",
    "        self.fc.weight.data.uniform_(-1, 1)\n",
    "\n",
    "# Calculate performance measures\n",
    "def compute_performance(yhat, y, pos_cutoff):\n",
    "    # First, get tp, tn, fp, fn\n",
    "    tp = sum(np.logical_and(yhat >= pos_cutoff, y == 1).numpy())\n",
    "    tn = sum(np.logical_and(yhat < pos_cutoff, y == 0).numpy())\n",
    "    fp = sum(np.logical_and(yhat >= pos_cutoff, y == 0).numpy())\n",
    "    fn = sum(np.logical_and(yhat < pos_cutoff, y == 1).numpy())\n",
    "\n",
    "    print(f\"tp: {tp} tn: {tn} fp: {fp} fn: {fn}\")\n",
    "\n",
    "    acc = (tp + tn) / (tp + tn + fp + fn)\n",
    "    precision = tp / (tp + fp)\n",
    "    recall = tp / (tp + fn)\n",
    "    sensitivity = recall\n",
    "    specificity = tn / (fp + tn)\n",
    "\n",
    "    # Print results\n",
    "    print(\"Accuracy: \", acc, \" Recall: \", recall, \" Precision: \", precision,\n",
    "          \" Sensitivity: \", sensitivity, \" Specificity: \", specificity)\n",
    "\n"
   ],
   "metadata": {
    "collapsed": false,
    "pycharm": {
     "name": "#%%\n"
    }
   }
  },
  {
   "cell_type": "code",
   "execution_count": 5,
   "outputs": [
    {
     "name": "stderr",
     "output_type": "stream",
     "text": [
      "100%|██████████| 698/698 [00:55<00:00, 12.58it/s]\n"
     ]
    },
    {
     "data": {
      "text/plain": "CharRNN(\n  (embed): Embedding(97, 512, padding_idx=0)\n  (lstm): LSTM(512, 512, num_layers=2, batch_first=True)\n  (fc): Linear(in_features=512, out_features=1, bias=True)\n)"
     },
     "execution_count": 5,
     "metadata": {},
     "output_type": "execute_result"
    }
   ],
   "source": [
    "# load checkpoint\n",
    "model = CharRNN(chars, hidden_size=512, num_layers=2)\n",
    "checkpoint = torch.load('../checkpoints/URL_LSTM/11-29-2021/Classifier_14-04-2022/Real/14-04-2022_18-33_E_10_VL_0.5607.pt')\n",
    "model.load_state_dict(checkpoint['model_state_dict'])\n",
    "model.eval()\n",
    "\n",
    "test_inputs, test_targets, test_seq_lengths = get_batches(X_test, y_test, 128)\n"
   ],
   "metadata": {
    "collapsed": false,
    "pycharm": {
     "name": "#%%\n"
    }
   }
  },
  {
   "cell_type": "code",
   "execution_count": 10,
   "outputs": [
    {
     "name": "stderr",
     "output_type": "stream",
     "text": [
      "100%|██████████| 698/698 [00:15<00:00, 43.84it/s]\n"
     ]
    },
    {
     "name": "stdout",
     "output_type": "stream",
     "text": [
      "tp: 40299 tn: 47909 fp: 942 fn: 194\n",
      "Accuracy:  0.9872851002865329  Recall:  0.9952090484775147  Precision:  0.9771586527969739  Sensitivity:  0.9952090484775147  Specificity:  0.9807168737589814\n",
      "[[47909   942]\n",
      " [  194 40299]]\n"
     ]
    },
    {
     "data": {
      "text/plain": "<Figure size 432x288 with 2 Axes>",
      "image/png": "[encoded data removed]"
     },
     "metadata": {
      "needs_background": "light"
     },
     "output_type": "display_data"
    }
   ],
   "source": [
    "predictions, actuals = [], []\n",
    "\n",
    "for i in tqdm(range(len(test_inputs))):\n",
    "\n",
    "    if cuda:\n",
    "        test_input_batch, test_target_batch, test_seq_length_batch = test_inputs[i].cuda(), test_targets[i], test_seq_lengths[i].cuda()\n",
    "\n",
    "    predictions += (model.predict(test_input_batch, test_seq_length_batch)).detach().cpu()\n",
    "    actuals += test_target_batch\n",
    "\n",
    "compute_performance(torch.tensor(np.array(predictions)), torch.tensor(np.array(actuals)), 0.5)\n",
    "print(confusion_matrix(actuals, np.round(predictions)))\n",
    "disp = ConfusionMatrixDisplay(confusion_matrix(actuals, np.round(predictions), labels=[0, 1]),\n",
    "                              display_labels=['Benign', 'Malicious'])\n",
    "disp.plot(values_format=\"d\")\n",
    "plt.show()\n",
    "disp.figure_.savefig('../checkpoints/URL_LSTM/CM_T.png')\n",
    "plt.close(disp.figure_)"
   ],
   "metadata": {
    "collapsed": false,
    "pycharm": {
     "name": "#%%\n"
    }
   }
  }
 ],
 "metadata": {
  "kernelspec": {
   "display_name": "Python 3",
   "language": "python",
   "name": "python3"
  },
  "language_info": {
   "codemirror_mode": {
    "name": "ipython",
    "version": 2
   },
   "file_extension": ".py",
   "mimetype": "text/x-python",
   "name": "python",
   "nbconvert_exporter": "python",
   "pygments_lexer": "ipython2",
   "version": "2.7.6"
  }
 },
 "nbformat": 4,
 "nbformat_minor": 0
}