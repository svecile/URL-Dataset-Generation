{
 "cells": [
  {
   "cell_type": "code",
   "execution_count": 1,
   "metadata": {
    "collapsed": true
   },
   "outputs": [
    {
     "name": "stdout",
     "output_type": "stream",
     "text": [
      "True\n"
     ]
    }
   ],
   "source": [
    "import copy\n",
    "\n",
    "import torch\n",
    "import torch.nn as nn\n",
    "import pandas as pd\n",
    "import numpy as np\n",
    "import random\n",
    "from sklearn.model_selection import train_test_split\n",
    "\n",
    "from matplotlib import pyplot as plt\n",
    "from datetime import datetime\n",
    "from tqdm import tqdm\n",
    "\n",
    "from torch.nn import Embedding, LSTM\n",
    "from torch.nn.functional import softmax\n",
    "from torch.nn.utils.rnn import pack_padded_sequence, pad_packed_sequence\n",
    "\n",
    "# Device configuration\n",
    "cuda = False\n",
    "if torch.cuda.is_available():\n",
    "    cuda=True\n",
    "\n",
    "print(cuda)\n",
    "torch.set_printoptions(threshold=10000)\n",
    "#https://www.unb.ca/cic/datasets/url-2016.html"
   ]
  },
  {
   "cell_type": "code",
   "execution_count": 28,
   "outputs": [
    {
     "name": "stdout",
     "output_type": "stream",
     "text": [
      "12000\n",
      "11566\n",
      "9965\n",
      "['http://astore.amazon.co.uk/allezvinsfrenchr/detail/1904010202/026-8324244-9330038'\n",
      " 'http://archive.salisburyjournal.co.uk/2007/3/6/306369.html'\n",
      " 'http://appbasic.jettons.co.uk/links/index.html' ...\n",
      " 'http://liuheng.chengxuren.com/Images/'\n",
      " 'http://mcnaotempreco.net/site/portal/'\n",
      " 'http://missionaryfilms.org/index.html']\n",
      "(33531,)\n",
      "('<pad>', '</s>', '</e>', ' ', '!', '#', '$', '%', '&', \"'\", '(', ')', '*', '+', ',', '-', '.', '/', '0', '1', '2', '3', '4', '5', '6', '7', '8', '9', ':', ';', '=', '?', '@', 'A', 'B', 'C', 'D', 'E', 'F', 'G', 'H', 'I', 'J', 'K', 'L', 'M', 'N', 'O', 'P', 'Q', 'R', 'S', 'T', 'U', 'V', 'W', 'X', 'Y', 'Z', '[', ']', '_', 'a', 'b', 'c', 'd', 'e', 'f', 'g', 'h', 'i', 'j', 'k', 'l', 'm', 'n', 'o', 'p', 'q', 'r', 's', 't', 'u', 'v', 'w', 'x', 'y', 'z', '{', '}', '~', '\\x8d', '¸', 'ä', 'å', 'ø', 'Š', 'ˆ') 98\n",
      "(33531,)\n",
      "[69, 81, 81, 77, 28, 17, 17, 62, 80, 81, 76, 79, 66, 16, 62, 74, 62, 87, 76, 75, 16, 64, 76, 16, 82, 72, 17, 62, 73, 73, 66, 87, 83, 70, 75, 80, 67, 79, 66, 75, 64, 69, 79, 17, 65, 66, 81, 62, 70, 73, 17, 19, 27, 18, 22, 18, 19, 18, 20, 18, 20, 17, 18, 20, 24, 15, 26, 21, 20, 22, 20, 22, 22, 15, 27, 21, 21, 18, 18, 21, 26]\n"
     ]
    },
    {
     "name": "stderr",
     "output_type": "stream",
     "text": [
      "<ipython-input-28-5843a78b8c9f>:31: VisibleDeprecationWarning: Creating an ndarray from ragged nested sequences (which is a list-or-tuple of lists-or-tuples-or ndarrays with different lengths or shapes) is deprecated. If you meant to do this, you must specify 'dtype=object' when creating the ndarray.\n",
      "  encoded = np.array(encoded)\n"
     ]
    }
   ],
   "source": [
    "attack = True\n",
    "if attack:\n",
    "    df1 = pd.read_csv(\"../Datasets/URL/FinalDataset/URL/spam_dataset.csv\", header=None)\n",
    "    print(len(df1))\n",
    "    df3 = pd.read_csv(\"../Datasets/URL/FinalDataset/URL/Malware_dataset.csv\", header=None)\n",
    "    print(len(df3))\n",
    "    df4 = pd.read_csv(\"../Datasets/URL/FinalDataset/URL/phishing_dataset.csv\", header=None)\n",
    "    print(len(df4))\n",
    "    df = pd.concat([df1, df3, df4], ignore_index=True)\n",
    "\n",
    "else:\n",
    "    df = pd.read_csv(\"../Datasets/URL/FinalDataset/URL/Benign_list_big_final.csv\", header=None)\n",
    "\n",
    "urls = np.array(df.values).squeeze()\n",
    "\n",
    "print(urls)\n",
    "print(urls.shape)\n",
    "\n",
    "allURL = ''.join(urls)\n",
    "chars = tuple(['<pad>', '</s>', '</e>'] + sorted(set(allURL))) #find unique characters\n",
    "print(chars, len(chars))\n",
    "\n",
    "int2char = dict(enumerate(chars)) #go over each unique char in the set and assign an int\n",
    "char2int = {ch: ii for ii, ch in int2char.items()} #creates dictionary that maps char to integer (reverse of above)\n",
    "\n",
    "encoded = []\n",
    "for url in urls:\n",
    "    encoded.append([char2int[ch] for ch in url])\n",
    "\n",
    "encoded = np.array(encoded)\n",
    "print(encoded.shape)\n",
    "print(encoded[0])"
   ],
   "metadata": {
    "collapsed": false,
    "pycharm": {
     "name": "#%%\n"
    }
   }
  },
  {
   "cell_type": "code",
   "execution_count": 24,
   "outputs": [],
   "source": [
    "class CharRNN(nn.Module):\n",
    "\n",
    "    def __init__(self, tokens, hidden_size=256, num_layers=2, lr=0.01):\n",
    "        super().__init__()\n",
    "\n",
    "        self.num_layers = num_layers\n",
    "        self.hidden_size = hidden_size\n",
    "        self.lr = lr\n",
    "        self.input_size, self.output_size = len(tokens), len(tokens)\n",
    "\n",
    "        #create character dictionary\n",
    "        self.chars = tokens\n",
    "        self.int2char = dict(enumerate(self.chars))\n",
    "        self.char2int = {ch: ii for ii, ch in int2char.items()}\n",
    "\n",
    "        #define network\n",
    "        self.embed = Embedding(self.input_size, hidden_size, padding_idx=0)\n",
    "        self.lstm = LSTM(hidden_size, hidden_size, num_layers, batch_first=True)\n",
    "        self.dropout = nn.Dropout(0.5)\n",
    "        self.fc = nn.Linear(hidden_size, self.output_size)\n",
    "\n",
    "        self.init_weights()\n",
    "\n",
    "    def forward(self, x, hc, x_lengths):\n",
    "        embedded_input = self.embed(x)\n",
    "        packed_input = pack_padded_sequence(embedded_input, x_lengths.cpu().numpy(), batch_first=True)\n",
    "        packed_out, (hidden_state, cell_state) = self.lstm(packed_input, hc)\n",
    "        output, x_lengths = pad_packed_sequence(packed_out, batch_first=True)\n",
    "\n",
    "        x = self.dropout(output)\n",
    "        x = self.fc(x)\n",
    "        return x, (hidden_state, cell_state)\n",
    "\n",
    "    #Given a character, predict the next character.\n",
    "    #Returns the predicted character and the hidden state.\n",
    "    def predict(self, char, h=None):\n",
    "\n",
    "        if h is None:\n",
    "            h = self.init_hidden(1)\n",
    "\n",
    "        x = np.array([[self.char2int[char]]])\n",
    "        inputs = torch.from_numpy(x)\n",
    "\n",
    "        if cuda:\n",
    "            inputs = inputs.cuda()\n",
    "\n",
    "        h = tuple([each.data for each in h])\n",
    "        out, h = self.forward(inputs, h, torch.from_numpy(np.array([1]))) #[1] since sequence length is one for only one character\n",
    "\n",
    "        p = softmax(out, dim=2).data\n",
    "\n",
    "        if cuda:\n",
    "            p = p.cpu()\n",
    "\n",
    "        top_ch = np.arange(len(self.chars))\n",
    "        p = p.numpy().squeeze()\n",
    "        char = np.random.choice(top_ch, p=p/p.sum())\n",
    "\n",
    "        return self.int2char[char], h\n",
    "\n",
    "    #Initialize weights for fully connected layer\n",
    "    def init_weights(self):\n",
    "\n",
    "        # Set bias tensor to all zeros\n",
    "        self.fc.bias.data.fill_(0)\n",
    "        # FC weights as random uniform\n",
    "        self.fc.weight.data.uniform_(-1, 1)\n",
    "\n",
    "    #Initializes hidden state\n",
    "    def init_hidden(self, n_seqs):\n",
    "        # Create two new tensors with sizes n_layers x n_seqs x n_hidden,\n",
    "        # initialized to zero, for hidden state and cell state of LSTM\n",
    "        weight = next(self.parameters()).data\n",
    "        return (weight.new(self.num_layers, n_seqs, self.hidden_size).zero_(),\n",
    "                weight.new(self.num_layers, n_seqs, self.hidden_size).zero_())\n",
    "\n",
    "def sample(net):\n",
    "\n",
    "    start='</s>'\n",
    "    # First off, run through the start characters\n",
    "    chars = [ch for ch in start]\n",
    "\n",
    "    h = net.init_hidden(1)\n",
    "    char, h = net.predict(start, h)\n",
    "\n",
    "    chars.append(char)\n",
    "\n",
    "    # Now pass in the previous character and get a new one\n",
    "    while char != '</e>':\n",
    "        char, h = net.predict(chars[-1], h)\n",
    "        chars.append(char)\n",
    "\n",
    "    return ''.join(chars)\n",
    "\n",
    "def get_batches(train_samples, batch_size):\n",
    "\n",
    "    batches_in, batches_target, batches_seq_length = [], [], []\n",
    "\n",
    "    for i in tqdm(range(int(len(train_samples)/batch_size))):  #number of even batches\n",
    "\n",
    "        batch, seq_lengths_batch = [], []\n",
    "\n",
    "        for r in range(i*batch_size, (i+1)*batch_size):\n",
    "            seq_lengths_batch.append(len(train_samples[r])+1)\n",
    "            batch.append(train_samples[r])\n",
    "\n",
    "        maxLen =  max(seq_lengths_batch)\n",
    "\n",
    "        text_in = torch.zeros((batch_size, maxLen))\n",
    "        text_target = torch.zeros((batch_size, maxLen))\n",
    "\n",
    "        for r in range(0, batch_size):\n",
    "\n",
    "            #set first position in each row of text_in to 1 to indicate </s> start tag\n",
    "            text_in[r][0]=1\n",
    "            #set position after the last letter in each row of text_out to 2 to indicate </e> end tag\n",
    "            text_target[r][len(batch[r])]=2\n",
    "\n",
    "            #iterate over each char in the train sample, start index c+1 for text in since index 0 is for </s>\n",
    "            for c in range(0, len(batch[r])):\n",
    "                text_in[r][c+1] = batch[r][c]\n",
    "                text_target[r][c] = batch[r][c]\n",
    "\n",
    "        seq_lengths_batch, perm_idx = torch.tensor(seq_lengths_batch).sort(0, descending=True) #sort batch with longest sequence at the top\n",
    "        text_in = text_in[perm_idx]\n",
    "        text_target = text_target[perm_idx]\n",
    "\n",
    "        batches_in.append(text_in.long())\n",
    "        batches_target.append(text_target.long())\n",
    "        batches_seq_length.append(seq_lengths_batch.long())\n",
    "\n",
    "    return batches_in, batches_target, batches_seq_length"
   ],
   "metadata": {
    "collapsed": false,
    "pycharm": {
     "name": "#%%\n"
    }
   }
  },
  {
   "cell_type": "code",
   "execution_count": 26,
   "outputs": [
    {
     "name": "stderr",
     "output_type": "stream",
     "text": [
      "  0%|          | 1/235 [00:00<00:38,  6.00it/s]"
     ]
    },
    {
     "name": "stdout",
     "output_type": "stream",
     "text": [
      "CharRNN(\n",
      "  (embed): Embedding(98, 512, padding_idx=0)\n",
      "  (lstm): LSTM(512, 512, num_layers=2, batch_first=True)\n",
      "  (dropout): Dropout(p=0.5, inplace=False)\n",
      "  (fc): Linear(in_features=512, out_features=98, bias=True)\n",
      ")\n",
      "\n",
      "Makeing Training and Validation Batches\n"
     ]
    },
    {
     "name": "stderr",
     "output_type": "stream",
     "text": [
      "100%|██████████| 235/235 [00:38<00:00,  6.14it/s]\n",
      "100%|██████████| 26/26 [00:04<00:00,  6.36it/s]\n",
      "  0%|          | 0/235 [00:00<?, ?it/s]"
     ]
    },
    {
     "name": "stdout",
     "output_type": "stream",
     "text": [
      "\n",
      "Training Start\n",
      "\n"
     ]
    },
    {
     "name": "stderr",
     "output_type": "stream",
     "text": [
      "100%|██████████| 235/235 [00:41<00:00,  5.62it/s]\n",
      "  0%|          | 0/235 [00:00<?, ?it/s]"
     ]
    },
    {
     "name": "stdout",
     "output_type": "stream",
     "text": [
      "Epoch: 0/50... Loss: 1.8684... Val Loss: 1.2380\n",
      "</s>http://9779.info/%E5%B7%A5%E6%89%8B%E5%87%A6%E5%9B%BE%EE7%B1%8B%E9%B9%92%E7%94%A8%E4%BD%90%E5%8D%90%E7%B2%98%E7%B2%98%E8%B4%B4%E7%94%BB/</e>\n"
     ]
    },
    {
     "name": "stderr",
     "output_type": "stream",
     "text": [
      "100%|██████████| 235/235 [00:41<00:00,  5.64it/s]\n",
      "  0%|          | 0/235 [00:00<?, ?it/s]"
     ]
    },
    {
     "name": "stdout",
     "output_type": "stream",
     "text": [
      "Epoch: 1/50... Loss: 1.1894... Val Loss: 1.0590\n",
      "</s>http://www.824555.com/app/member/SportOption.php?uid=guest&langx=gb</e>\n"
     ]
    },
    {
     "name": "stderr",
     "output_type": "stream",
     "text": [
      "100%|██████████| 235/235 [00:41<00:00,  5.66it/s]\n",
      "  0%|          | 0/235 [00:00<?, ?it/s]"
     ]
    },
    {
     "name": "stdout",
     "output_type": "stream",
     "text": [
      "Epoch: 2/50... Loss: 1.0649... Val Loss: 0.9745\n",
      "</s>http://archives.li.man.ac.uk/ead/search/?operation=summary&rsid=16889&firstrec=1&numreq=20&highlight=0</e>\n"
     ]
    },
    {
     "name": "stderr",
     "output_type": "stream",
     "text": [
      "100%|██████████| 235/235 [00:41<00:00,  5.67it/s]\n",
      "  0%|          | 0/235 [00:00<?, ?it/s]"
     ]
    },
    {
     "name": "stdout",
     "output_type": "stream",
     "text": [
      "Epoch: 3/50... Loss: 0.9589... Val Loss: 0.9052\n",
      "</s>http://a1-account.id8/login.php?cmd=login&pages=x&y=</e>\n"
     ]
    },
    {
     "name": "stderr",
     "output_type": "stream",
     "text": [
      "100%|██████████| 235/235 [00:41<00:00,  5.68it/s]\n",
      "  0%|          | 0/235 [00:00<?, ?it/s]"
     ]
    },
    {
     "name": "stdout",
     "output_type": "stream",
     "text": [
      "Epoch: 4/50... Loss: 0.8795... Val Loss: 0.8547\n",
      "</s>http://aolshop.memberoffers.co.uk/csp/smp/aol/itementry3.csp?FS=C224&cat=AK&header=Kitchenware/login.html</e>\n"
     ]
    },
    {
     "name": "stderr",
     "output_type": "stream",
     "text": [
      "100%|██████████| 235/235 [00:41<00:00,  5.66it/s]\n",
      "  0%|          | 0/235 [00:00<?, ?it/s]"
     ]
    },
    {
     "name": "stdout",
     "output_type": "stream",
     "text": [
      "Epoch: 5/50... Loss: 0.8289... Val Loss: 0.8245\n",
      "</s>http://aig.cs.man.ac.uk/people/mashhuda/gallery/main.php?g2_itemId=135_1&g2_GALLERYSID=d6e10f04097</e>\n"
     ]
    },
    {
     "name": "stderr",
     "output_type": "stream",
     "text": [
      "100%|██████████| 235/235 [00:41<00:00,  5.68it/s]\n",
      "  0%|          | 0/235 [00:00<?, ?it/s]"
     ]
    },
    {
     "name": "stdout",
     "output_type": "stream",
     "text": [
      "Epoch: 6/50... Loss: 0.7943... Val Loss: 0.8068\n",
      "</s>http://secience.cn/ti.com/js/16890f3628543725363/</e>\n"
     ]
    },
    {
     "name": "stderr",
     "output_type": "stream",
     "text": [
      "100%|██████████| 235/235 [00:41<00:00,  5.67it/s]\n",
      "  0%|          | 0/235 [00:00<?, ?it/s]"
     ]
    },
    {
     "name": "stdout",
     "output_type": "stream",
     "text": [
      "Epoch: 7/50... Loss: 0.7668... Val Loss: 0.7875\n",
      "</s>http://aolpictures.aol.co.uk/galleries/goodgisheetixonce.html</e>\n"
     ]
    },
    {
     "name": "stderr",
     "output_type": "stream",
     "text": [
      "100%|██████████| 235/235 [00:41<00:00,  5.68it/s]\n",
      "  0%|          | 0/235 [00:00<?, ?it/s]"
     ]
    },
    {
     "name": "stdout",
     "output_type": "stream",
     "text": [
      "Epoch: 8/50... Loss: 0.7423... Val Loss: 0.7762\n",
      "</s>http://style.org.hc360.com/js/build/source/widgets/wij/hc.wijdialy.com/aa0007569547/</e>\n"
     ]
    },
    {
     "name": "stderr",
     "output_type": "stream",
     "text": [
      "100%|██████████| 235/235 [00:41<00:00,  5.65it/s]\n"
     ]
    },
    {
     "name": "stdout",
     "output_type": "stream",
     "text": [
      "Epoch: 9/50... Loss: 0.7219... Val Loss: 0.7801\n"
     ]
    },
    {
     "name": "stderr",
     "output_type": "stream",
     "text": [
      "  0%|          | 0/235 [00:00<?, ?it/s]"
     ]
    },
    {
     "name": "stdout",
     "output_type": "stream",
     "text": [
      "</s>http://appleid.apple.co.uk.cgi-bin.webobjects.myappleid.woa.verify1.id-app7.co.uk/identify-customer=Ear2GwbDeSjQzq6QSIWzYes5zqDxh85FqlWDe4JvanaX7MmQ0NplNzGYRhcUolC2DkNbDJHCVMKZhCEEcHWjMPsRsToyMFqnOScHRBDNPX9tOe040italic%2C700italic%2C400italic%2C600italic%2C400%2C700&subset=latin%2Clatin-ext</e>\n"
     ]
    },
    {
     "name": "stderr",
     "output_type": "stream",
     "text": [
      "100%|██████████| 235/235 [00:42<00:00,  5.56it/s]\n",
      "  0%|          | 0/235 [00:00<?, ?it/s]"
     ]
    },
    {
     "name": "stdout",
     "output_type": "stream",
     "text": [
      "Epoch: 10/50... Loss: 0.7052... Val Loss: 0.7670\n",
      "</s>http://www.martin-busker.de/administrator/help/en-GB/css/Facture/f6c91112653b866fd0bada0-70474323400-in/includes/biologon.html</e>\n"
     ]
    },
    {
     "name": "stderr",
     "output_type": "stream",
     "text": [
      "100%|██████████| 235/235 [00:42<00:00,  5.58it/s]\n",
      "  0%|          | 0/235 [00:00<?, ?it/s]"
     ]
    },
    {
     "name": "stdout",
     "output_type": "stream",
     "text": [
      "Epoch: 11/50... Loss: 0.6969... Val Loss: 0.7489\n",
      "</s>http://gdxjabh.com/js/?http://us.battle.net/login/en/?ref=http%3A%2F%2Fooldwiremousaotus.battle.net%2Fd3%2Fen%2Findex&amp;app=com-d3</e>\n"
     ]
    },
    {
     "name": "stderr",
     "output_type": "stream",
     "text": [
      "100%|██████████| 235/235 [00:41<00:00,  5.62it/s]\n",
      "  0%|          | 0/235 [00:00<?, ?it/s]"
     ]
    },
    {
     "name": "stdout",
     "output_type": "stream",
     "text": [
      "Epoch: 12/50... Loss: 0.6783... Val Loss: 0.7406\n",
      "</s>http://www.Hiboothernewsantareatord.com.br/vatestion/608008b2733dee88d9efb8d5e17f97737a78a4d38/</e>\n"
     ]
    },
    {
     "name": "stderr",
     "output_type": "stream",
     "text": [
      "100%|██████████| 235/235 [00:41<00:00,  5.64it/s]\n",
      "  0%|          | 0/235 [00:00<?, ?it/s]"
     ]
    },
    {
     "name": "stdout",
     "output_type": "stream",
     "text": [
      "Epoch: 13/50... Loss: 0.6625... Val Loss: 0.7375\n",
      "</s>http://aolpictures.aol.co.uk/galleries/antonjulianov777/9420NORtoEfpL1sfoR91jqWHy-DvTbqjv4xQp5Fd3Ig=/tag/maycontest07</e>\n"
     ]
    },
    {
     "name": "stderr",
     "output_type": "stream",
     "text": [
      "100%|██████████| 235/235 [00:41<00:00,  5.69it/s]\n"
     ]
    },
    {
     "name": "stdout",
     "output_type": "stream",
     "text": [
      "Epoch: 14/50... Loss: 0.6511... Val Loss: 0.7387\n",
      "</s>http://www.auolau.com/aol/ref=br_lf_m_0000431_1_2_ttl/202-2513040-1206232?_encoding=UTF8&m=A3P5ROKL5A1OLE&s=music&pf_rd_m=A3P5ROKL5A1OLE&pf_rd_s=center-6&pf_rd_r=1YYY76GTR91T&pf_rd_t=101&pf_rd_p=124058591&pf_rd_i=938420</e>\n"
     ]
    },
    {
     "name": "stderr",
     "output_type": "stream",
     "text": [
      "100%|██████████| 235/235 [00:41<00:00,  5.69it/s]\n",
      "  0%|          | 0/235 [00:00<?, ?it/s]"
     ]
    },
    {
     "name": "stdout",
     "output_type": "stream",
     "text": [
      "Epoch: 15/50... Loss: 0.6443... Val Loss: 0.7301\n",
      "</s>http://schertzauto.com/wp-content/plugins/revslider/rs-plugin/css/settings.css?rev=4.6.0&ver=4.2.2</e>\n"
     ]
    },
    {
     "name": "stderr",
     "output_type": "stream",
     "text": [
      "100%|██████████| 235/235 [00:41<00:00,  5.70it/s]\n",
      "  0%|          | 0/235 [00:00<?, ?it/s]"
     ]
    },
    {
     "name": "stdout",
     "output_type": "stream",
     "text": [
      "Epoch: 16/50... Loss: 0.6330... Val Loss: 0.7390\n",
      "</s>http://9779.info/%E5%B9%BC%E5%84%BF%E6%A3%89%E6%A3%92%E7%B2%98%E8%B4%B4%E7%94%BB/</e>\n"
     ]
    },
    {
     "name": "stderr",
     "output_type": "stream",
     "text": [
      "100%|██████████| 235/235 [00:41<00:00,  5.69it/s]\n",
      "  0%|          | 0/235 [00:00<?, ?it/s]"
     ]
    },
    {
     "name": "stdout",
     "output_type": "stream",
     "text": [
      "Epoch: 17/50... Loss: 0.6236... Val Loss: 0.7360\n",
      "</s>http://astore.amazon.co.uk/ukvisit-21/detail/B000004DDUXV/203-6933174-0803961</e>\n"
     ]
    },
    {
     "name": "stderr",
     "output_type": "stream",
     "text": [
      "100%|██████████| 235/235 [00:41<00:00,  5.69it/s]\n"
     ]
    },
    {
     "name": "stdout",
     "output_type": "stream",
     "text": [
      "Epoch: 18/50... Loss: 0.6135... Val Loss: 0.7339\n",
      "Early Stop no improvement in validation loss in 3 validation steps\n"
     ]
    },
    {
     "data": {
      "text/plain": "<Figure size 720x480 with 1 Axes>",
      "image/png": "[encoded data removed]"
     },
     "metadata": {
      "needs_background": "light"
     },
     "output_type": "display_data"
    },
    {
     "name": "stdout",
     "output_type": "stream",
     "text": [
      "Lowest Validation Loss: 0.7301265001296997\n"
     ]
    }
   ],
   "source": [
    "def train(net, data, cuda=True, epochs=10, batch_size=10, lr=0.001, clip=5, val_frac=0.1, early_stop=10):\n",
    "\n",
    "    opt = torch.optim.Adam(net.parameters(), lr=lr)\n",
    "    criterion = nn.CrossEntropyLoss(ignore_index=0)\n",
    "    #num classes (characters in this case) needed for loss calc\n",
    "    classes = len(net.chars)\n",
    "\n",
    "    # create training and validation data\n",
    "    data, val_data = train_test_split(data, test_size=val_frac, random_state=42)\n",
    "    print(\"\\nMaking Training and Validation Batches\")\n",
    "    train_input_batches, train_target_batches, train_seq_length_batches = get_batches(data, batch_size)\n",
    "    val_input_batches, val_target_batches, val_seq_length_batches = get_batches(val_data, batch_size)\n",
    "\n",
    "    if cuda:\n",
    "        net.cuda()\n",
    "\n",
    "    lowest_val_epoch, val_steps_wo_improvement= 0, 0\n",
    "    lowest_val_loss = np.inf\n",
    "    train_losses, val_losses=[], []\n",
    "    best_model = copy.deepcopy(net.state_dict())\n",
    "\n",
    "    print(\"\\nTraining Start\\n\")\n",
    "    for e in range(epochs):\n",
    "\n",
    "        net.train()\n",
    "        epoch_loss = 0\n",
    "        h = net.init_hidden(batch_size)\n",
    "\n",
    "        for b in tqdm(range(len(train_input_batches))):\n",
    "\n",
    "            if cuda:\n",
    "                inputs, targets, seq_lengths = train_input_batches[b].cuda(), train_target_batches[b].cuda(), train_seq_length_batches[b].cuda()\n",
    "            else:\n",
    "                inputs, targets, seq_lengths = train_input_batches[b], train_target_batches[b], train_seq_length_batches[b]\n",
    "\n",
    "            net.zero_grad(set_to_none=True)\n",
    "            h = tuple([each.data for each in h])\n",
    "            output, h = net.forward(inputs, h, seq_lengths)\n",
    "\n",
    "            loss = criterion(output.view(-1, classes), targets.view(-1))\n",
    "            loss.backward()\n",
    "\n",
    "            epoch_loss+=loss\n",
    "            # `clip_grad_norm` helps prevent the exploding gradient problem in RNNs / LSTMs.\n",
    "            nn.utils.clip_grad_norm_(net.parameters(), clip)\n",
    "\n",
    "            opt.step()\n",
    "\n",
    "        train_losses.append((epoch_loss/len(train_input_batches)).item())\n",
    "\n",
    "        #VALIDATION STEP\n",
    "        net.eval()\n",
    "        net.zero_grad(set_to_none=True)\n",
    "        val_h = net.init_hidden(batch_size)\n",
    "\n",
    "        with torch.no_grad():\n",
    "            val_loss=0\n",
    "            for vb in range(len(val_input_batches)):\n",
    "\n",
    "                if cuda:\n",
    "                    val_inputs, val_targets, val_seq_lengths = val_input_batches[vb].cuda(), val_target_batches[vb].cuda(), val_seq_length_batches[vb].cuda()\n",
    "                else:\n",
    "                    val_inputs, val_targets, val_seq_lengths = val_input_batches[vb], val_target_batches[vb], val_seq_length_batches[vb]\n",
    "\n",
    "                val_h = tuple([each.data for each in val_h])\n",
    "                val_output, val_h = net.forward(val_inputs, val_h, val_seq_lengths)\n",
    "\n",
    "                val_loss += criterion(val_output.view(-1, classes), val_targets.view(-1))\n",
    "\n",
    "            val_loss = val_loss/len(val_input_batches)\n",
    "            val_losses.append(val_loss.item())\n",
    "\n",
    "        if val_loss <= lowest_val_loss:\n",
    "            best_model = copy.deepcopy(net.state_dict())\n",
    "            lowest_val_loss = val_loss\n",
    "            lowest_val_epoch=e\n",
    "            val_steps_wo_improvement=0\n",
    "        else:\n",
    "            val_steps_wo_improvement+=1\n",
    "\n",
    "        print(\"Epoch: {}/{}...\".format(e, epochs),\n",
    "              \"Loss: {:.4f}...\".format(epoch_loss/len(train_input_batches)),\n",
    "              \"Val Loss: {:.4f}\".format(val_loss))\n",
    "\n",
    "        if val_steps_wo_improvement>=early_stop:\n",
    "            print(\"Early Stop no improvement in validation loss in \"+str(early_stop)+\" validation steps\")\n",
    "            break\n",
    "\n",
    "        print(sample(net))\n",
    "\n",
    "    net.load_state_dict(best_model)\n",
    "\n",
    "    run_ID = datetime.now().strftime(\"%m-%d-%Y_%H-%M\")\n",
    "    torch.save({'model_state_dict': net.state_dict()},\n",
    "                '../checkpoints/URL_LSTM/'+str(run_ID)+'_E-'+str(lowest_val_epoch)+'_VL-{:.4f}'.format(lowest_val_loss)+'.pt')\n",
    "\n",
    "    #plot losses\n",
    "    fig, ax = plt.subplots(dpi = 120)\n",
    "    ax.set_title(\"Training Loss Vs. Epoch\")\n",
    "    ax.set_ylabel(\"Loss\")\n",
    "    ax.set_xlabel(\"Epoch\")\n",
    "    ax.plot(np.linspace(0, len(train_losses), len(train_losses)),train_losses, 'r', label='Training Loss' )\n",
    "    ax.plot(np.linspace(0, len(val_losses), len(val_losses)),val_losses, 'b', label='Validation Loss' )\n",
    "    ax.legend(loc='upper center', bbox_to_anchor=(0.5, -0.15), shadow=True, ncol=2)\n",
    "    plt.show()\n",
    "\n",
    "    print(\"Lowest Validation Loss: \"+str(lowest_val_loss.item()))\n",
    "\n",
    "    return net\n",
    "\n",
    "net = CharRNN(chars, hidden_size=512, num_layers=2)\n",
    "print(net)\n",
    "\n",
    "trained_model = train(net, encoded, epochs=50, batch_size=128, lr=0.001, cuda=cuda, early_stop=3)"
   ],
   "metadata": {
    "collapsed": false,
    "pycharm": {
     "name": "#%%\n"
    }
   }
  },
  {
   "cell_type": "code",
   "execution_count": 17,
   "outputs": [
    {
     "name": "stdout",
     "output_type": "stream",
     "text": [
      "</s>http://buzzfil.net/m/show-art/news-challencia-de-nouvel-decomos-les-les-megas-internet-dececes-de-on-pokumentos-axcus-basito-de-18-101-optimir-gater-weizer-chelsee-ponte-de-clientes-3.html</e>\n",
      "</s>http://fazenda.gov.br/institucional/home-propertio-marcao/archistementacao-trespecial-para-de-et-gorge-circu-des-paul-poacteres-da-clinto.htm</e>\n",
      "</s>http://extratorrent.cc/torrent/4189413/Roching+Commoder+C-Makeridol+-+Beathering+Clusucg+Names+-+Os+Business+Duck+devil+language+Colorrellang</e>\n",
      "</s>http://olx.co.id/i2/hobi-olahraga/olahraga/alat-alat-musik-treboyoty/postale-mineji-kamos-dastellat-la.resultsubazzalia.html</e>\n",
      "</s>http://olx.ro/i2/moda-frumusete/incaltaminte-barbati/sein-y-la-role/alimente-garanter-producao-de-abra-ros-para-counteria-de-conveniencia</e>\n",
      "</s>https://tune.pk/video/6050960/mitt-inc-black-surround-girling-tequila-tryolog-unfunpira-dobrasite-double/</e>\n",
      "</s>https://sourceforge.net/community/world/premium-after-identical-of-regulation-workweeks</e>\n",
      "</s>http://hollywoodlife.com/2015/05/08/ya-smashun-cock-at-the-quieton-theyre-riots-off-shadest/</e>\n",
      "</s>http://espn.go.com/blog/custs/red-carpet-nature/gtm.js</e>\n",
      "</s>https://variety.com/2015/film/news/parantin-backup-barpans-beckham-yandicak-small-the-netfiess-ars-one-picture-219026</e>\n"
     ]
    }
   ],
   "source": [
    "#get some samples\n",
    "for _ in range(10):\n",
    "    print(sample(trained_model))"
   ],
   "metadata": {
    "collapsed": false,
    "pycharm": {
     "name": "#%%\n"
    }
   }
  },
  {
   "cell_type": "code",
   "execution_count": 10,
   "outputs": [
    {
     "data": {
      "text/plain": "<All keys matched successfully>"
     },
     "execution_count": 10,
     "metadata": {},
     "output_type": "execute_result"
    }
   ],
   "source": [
    "# load checkpoint\n",
    "trained_model = CharRNN(chars, hidden_size=512, num_layers=2)\n",
    "\n",
    "checkpoint = torch.load('../checkpoints/URL_LSTM/11-29-2021_00-26_21_0.7098.pt')\n",
    "trained_model.load_state_dict(checkpoint['model_state_dict'])\n"
   ],
   "metadata": {
    "collapsed": false,
    "pycharm": {
     "name": "#%% generate samples\n"
    }
   }
  },
  {
   "cell_type": "code",
   "execution_count": 18,
   "outputs": [
    {
     "name": "stderr",
     "output_type": "stream",
     "text": [
      "100%|██████████| 50000/50000 [1:13:13<00:00, 11.38it/s]\n"
     ]
    }
   ],
   "source": [
    "trained_model.cuda()\n",
    "trained_model.eval()\n",
    "\n",
    "samples=[]\n",
    "for _ in tqdm(range(50000)):\n",
    "    ex = sample(trained_model)\n",
    "\n",
    "    samples.append([ex[4:len(ex)-4]])"
   ],
   "metadata": {
    "collapsed": false,
    "pycharm": {
     "name": "#%%\n"
    }
   }
  },
  {
   "cell_type": "code",
   "execution_count": 19,
   "outputs": [],
   "source": [
    "np.savetxt('Spam_Samples_'+datetime.now().strftime(\"%d-%m-%Y_%H-%M\")+'.csv',\n",
    "           samples,\n",
    "           delimiter =\", \",\n",
    "           fmt ='% s')"
   ],
   "metadata": {
    "collapsed": false,
    "pycharm": {
     "name": "#%%\n"
    }
   }
  },
  {
   "cell_type": "code",
   "execution_count": 20,
   "outputs": [
    {
     "ename": "FileNotFoundError",
     "evalue": "[Errno 2] No such file or directory: './checkpoints/URL_LSTM/21-07-2021_20-56/Spam_Samples_21-07-2021_23-07.csv'",
     "output_type": "error",
     "traceback": [
      "\u001B[1;31m---------------------------------------------------------------------------\u001B[0m",
      "\u001B[1;31mFileNotFoundError\u001B[0m                         Traceback (most recent call last)",
      "\u001B[1;32m<ipython-input-20-e7e56672a6c3>\u001B[0m in \u001B[0;36m<module>\u001B[1;34m\u001B[0m\n\u001B[1;32m----> 1\u001B[1;33m \u001B[0mdf\u001B[0m \u001B[1;33m=\u001B[0m \u001B[0mpd\u001B[0m\u001B[1;33m.\u001B[0m\u001B[0mread_csv\u001B[0m\u001B[1;33m(\u001B[0m\u001B[1;34m'./checkpoints/URL_LSTM/21-07-2021_20-56/Spam_Samples_21-07-2021_23-07.csv'\u001B[0m\u001B[1;33m)\u001B[0m\u001B[1;33m\u001B[0m\u001B[1;33m\u001B[0m\u001B[0m\n\u001B[0m\u001B[0;32m      2\u001B[0m \u001B[0mprint\u001B[0m\u001B[1;33m(\u001B[0m\u001B[0mdf\u001B[0m\u001B[1;33m.\u001B[0m\u001B[0mvalue_counts\u001B[0m\u001B[1;33m(\u001B[0m\u001B[1;33m)\u001B[0m\u001B[1;33m)\u001B[0m\u001B[1;33m\u001B[0m\u001B[1;33m\u001B[0m\u001B[0m\n\u001B[0;32m      3\u001B[0m \u001B[0mdf\u001B[0m \u001B[1;33m=\u001B[0m \u001B[0mdf\u001B[0m\u001B[1;33m.\u001B[0m\u001B[0mdrop_duplicates\u001B[0m\u001B[1;33m(\u001B[0m\u001B[0mkeep\u001B[0m\u001B[1;33m=\u001B[0m\u001B[1;34m'first'\u001B[0m\u001B[1;33m)\u001B[0m\u001B[1;33m\u001B[0m\u001B[1;33m\u001B[0m\u001B[0m\n\u001B[0;32m      4\u001B[0m \u001B[0mprint\u001B[0m\u001B[1;33m(\u001B[0m\u001B[0mdf\u001B[0m\u001B[1;33m.\u001B[0m\u001B[0mvalue_counts\u001B[0m\u001B[1;33m(\u001B[0m\u001B[1;33m)\u001B[0m\u001B[1;33m)\u001B[0m\u001B[1;33m\u001B[0m\u001B[1;33m\u001B[0m\u001B[0m\n",
      "\u001B[1;32mc:\\users\\spencer\\documents\\pytorch\\venv\\lib\\site-packages\\pandas\\io\\parsers.py\u001B[0m in \u001B[0;36mread_csv\u001B[1;34m(filepath_or_buffer, sep, delimiter, header, names, index_col, usecols, squeeze, prefix, mangle_dupe_cols, dtype, engine, converters, true_values, false_values, skipinitialspace, skiprows, skipfooter, nrows, na_values, keep_default_na, na_filter, verbose, skip_blank_lines, parse_dates, infer_datetime_format, keep_date_col, date_parser, dayfirst, cache_dates, iterator, chunksize, compression, thousands, decimal, lineterminator, quotechar, quoting, doublequote, escapechar, comment, encoding, dialect, error_bad_lines, warn_bad_lines, delim_whitespace, low_memory, memory_map, float_precision, storage_options)\u001B[0m\n\u001B[0;32m    608\u001B[0m     \u001B[0mkwds\u001B[0m\u001B[1;33m.\u001B[0m\u001B[0mupdate\u001B[0m\u001B[1;33m(\u001B[0m\u001B[0mkwds_defaults\u001B[0m\u001B[1;33m)\u001B[0m\u001B[1;33m\u001B[0m\u001B[1;33m\u001B[0m\u001B[0m\n\u001B[0;32m    609\u001B[0m \u001B[1;33m\u001B[0m\u001B[0m\n\u001B[1;32m--> 610\u001B[1;33m     \u001B[1;32mreturn\u001B[0m \u001B[0m_read\u001B[0m\u001B[1;33m(\u001B[0m\u001B[0mfilepath_or_buffer\u001B[0m\u001B[1;33m,\u001B[0m \u001B[0mkwds\u001B[0m\u001B[1;33m)\u001B[0m\u001B[1;33m\u001B[0m\u001B[1;33m\u001B[0m\u001B[0m\n\u001B[0m\u001B[0;32m    611\u001B[0m \u001B[1;33m\u001B[0m\u001B[0m\n\u001B[0;32m    612\u001B[0m \u001B[1;33m\u001B[0m\u001B[0m\n",
      "\u001B[1;32mc:\\users\\spencer\\documents\\pytorch\\venv\\lib\\site-packages\\pandas\\io\\parsers.py\u001B[0m in \u001B[0;36m_read\u001B[1;34m(filepath_or_buffer, kwds)\u001B[0m\n\u001B[0;32m    460\u001B[0m \u001B[1;33m\u001B[0m\u001B[0m\n\u001B[0;32m    461\u001B[0m     \u001B[1;31m# Create the parser.\u001B[0m\u001B[1;33m\u001B[0m\u001B[1;33m\u001B[0m\u001B[1;33m\u001B[0m\u001B[0m\n\u001B[1;32m--> 462\u001B[1;33m     \u001B[0mparser\u001B[0m \u001B[1;33m=\u001B[0m \u001B[0mTextFileReader\u001B[0m\u001B[1;33m(\u001B[0m\u001B[0mfilepath_or_buffer\u001B[0m\u001B[1;33m,\u001B[0m \u001B[1;33m**\u001B[0m\u001B[0mkwds\u001B[0m\u001B[1;33m)\u001B[0m\u001B[1;33m\u001B[0m\u001B[1;33m\u001B[0m\u001B[0m\n\u001B[0m\u001B[0;32m    463\u001B[0m \u001B[1;33m\u001B[0m\u001B[0m\n\u001B[0;32m    464\u001B[0m     \u001B[1;32mif\u001B[0m \u001B[0mchunksize\u001B[0m \u001B[1;32mor\u001B[0m \u001B[0miterator\u001B[0m\u001B[1;33m:\u001B[0m\u001B[1;33m\u001B[0m\u001B[1;33m\u001B[0m\u001B[0m\n",
      "\u001B[1;32mc:\\users\\spencer\\documents\\pytorch\\venv\\lib\\site-packages\\pandas\\io\\parsers.py\u001B[0m in \u001B[0;36m__init__\u001B[1;34m(self, f, engine, **kwds)\u001B[0m\n\u001B[0;32m    817\u001B[0m             \u001B[0mself\u001B[0m\u001B[1;33m.\u001B[0m\u001B[0moptions\u001B[0m\u001B[1;33m[\u001B[0m\u001B[1;34m\"has_index_names\"\u001B[0m\u001B[1;33m]\u001B[0m \u001B[1;33m=\u001B[0m \u001B[0mkwds\u001B[0m\u001B[1;33m[\u001B[0m\u001B[1;34m\"has_index_names\"\u001B[0m\u001B[1;33m]\u001B[0m\u001B[1;33m\u001B[0m\u001B[1;33m\u001B[0m\u001B[0m\n\u001B[0;32m    818\u001B[0m \u001B[1;33m\u001B[0m\u001B[0m\n\u001B[1;32m--> 819\u001B[1;33m         \u001B[0mself\u001B[0m\u001B[1;33m.\u001B[0m\u001B[0m_engine\u001B[0m \u001B[1;33m=\u001B[0m \u001B[0mself\u001B[0m\u001B[1;33m.\u001B[0m\u001B[0m_make_engine\u001B[0m\u001B[1;33m(\u001B[0m\u001B[0mself\u001B[0m\u001B[1;33m.\u001B[0m\u001B[0mengine\u001B[0m\u001B[1;33m)\u001B[0m\u001B[1;33m\u001B[0m\u001B[1;33m\u001B[0m\u001B[0m\n\u001B[0m\u001B[0;32m    820\u001B[0m \u001B[1;33m\u001B[0m\u001B[0m\n\u001B[0;32m    821\u001B[0m     \u001B[1;32mdef\u001B[0m \u001B[0mclose\u001B[0m\u001B[1;33m(\u001B[0m\u001B[0mself\u001B[0m\u001B[1;33m)\u001B[0m\u001B[1;33m:\u001B[0m\u001B[1;33m\u001B[0m\u001B[1;33m\u001B[0m\u001B[0m\n",
      "\u001B[1;32mc:\\users\\spencer\\documents\\pytorch\\venv\\lib\\site-packages\\pandas\\io\\parsers.py\u001B[0m in \u001B[0;36m_make_engine\u001B[1;34m(self, engine)\u001B[0m\n\u001B[0;32m   1048\u001B[0m             )\n\u001B[0;32m   1049\u001B[0m         \u001B[1;31m# error: Too many arguments for \"ParserBase\"\u001B[0m\u001B[1;33m\u001B[0m\u001B[1;33m\u001B[0m\u001B[1;33m\u001B[0m\u001B[0m\n\u001B[1;32m-> 1050\u001B[1;33m         \u001B[1;32mreturn\u001B[0m \u001B[0mmapping\u001B[0m\u001B[1;33m[\u001B[0m\u001B[0mengine\u001B[0m\u001B[1;33m]\u001B[0m\u001B[1;33m(\u001B[0m\u001B[0mself\u001B[0m\u001B[1;33m.\u001B[0m\u001B[0mf\u001B[0m\u001B[1;33m,\u001B[0m \u001B[1;33m**\u001B[0m\u001B[0mself\u001B[0m\u001B[1;33m.\u001B[0m\u001B[0moptions\u001B[0m\u001B[1;33m)\u001B[0m  \u001B[1;31m# type: ignore[call-arg]\u001B[0m\u001B[1;33m\u001B[0m\u001B[1;33m\u001B[0m\u001B[0m\n\u001B[0m\u001B[0;32m   1051\u001B[0m \u001B[1;33m\u001B[0m\u001B[0m\n\u001B[0;32m   1052\u001B[0m     \u001B[1;32mdef\u001B[0m \u001B[0m_failover_to_python\u001B[0m\u001B[1;33m(\u001B[0m\u001B[0mself\u001B[0m\u001B[1;33m)\u001B[0m\u001B[1;33m:\u001B[0m\u001B[1;33m\u001B[0m\u001B[1;33m\u001B[0m\u001B[0m\n",
      "\u001B[1;32mc:\\users\\spencer\\documents\\pytorch\\venv\\lib\\site-packages\\pandas\\io\\parsers.py\u001B[0m in \u001B[0;36m__init__\u001B[1;34m(self, src, **kwds)\u001B[0m\n\u001B[0;32m   1865\u001B[0m \u001B[1;33m\u001B[0m\u001B[0m\n\u001B[0;32m   1866\u001B[0m         \u001B[1;31m# open handles\u001B[0m\u001B[1;33m\u001B[0m\u001B[1;33m\u001B[0m\u001B[1;33m\u001B[0m\u001B[0m\n\u001B[1;32m-> 1867\u001B[1;33m         \u001B[0mself\u001B[0m\u001B[1;33m.\u001B[0m\u001B[0m_open_handles\u001B[0m\u001B[1;33m(\u001B[0m\u001B[0msrc\u001B[0m\u001B[1;33m,\u001B[0m \u001B[0mkwds\u001B[0m\u001B[1;33m)\u001B[0m\u001B[1;33m\u001B[0m\u001B[1;33m\u001B[0m\u001B[0m\n\u001B[0m\u001B[0;32m   1868\u001B[0m         \u001B[1;32massert\u001B[0m \u001B[0mself\u001B[0m\u001B[1;33m.\u001B[0m\u001B[0mhandles\u001B[0m \u001B[1;32mis\u001B[0m \u001B[1;32mnot\u001B[0m \u001B[1;32mNone\u001B[0m\u001B[1;33m\u001B[0m\u001B[1;33m\u001B[0m\u001B[0m\n\u001B[0;32m   1869\u001B[0m         \u001B[1;32mfor\u001B[0m \u001B[0mkey\u001B[0m \u001B[1;32min\u001B[0m \u001B[1;33m(\u001B[0m\u001B[1;34m\"storage_options\"\u001B[0m\u001B[1;33m,\u001B[0m \u001B[1;34m\"encoding\"\u001B[0m\u001B[1;33m,\u001B[0m \u001B[1;34m\"memory_map\"\u001B[0m\u001B[1;33m,\u001B[0m \u001B[1;34m\"compression\"\u001B[0m\u001B[1;33m)\u001B[0m\u001B[1;33m:\u001B[0m\u001B[1;33m\u001B[0m\u001B[1;33m\u001B[0m\u001B[0m\n",
      "\u001B[1;32mc:\\users\\spencer\\documents\\pytorch\\venv\\lib\\site-packages\\pandas\\io\\parsers.py\u001B[0m in \u001B[0;36m_open_handles\u001B[1;34m(self, src, kwds)\u001B[0m\n\u001B[0;32m   1360\u001B[0m         \u001B[0mLet\u001B[0m \u001B[0mthe\u001B[0m \u001B[0mreaders\u001B[0m \u001B[0mopen\u001B[0m \u001B[0mIOHanldes\u001B[0m \u001B[0mafter\u001B[0m \u001B[0mthey\u001B[0m \u001B[0mare\u001B[0m \u001B[0mdone\u001B[0m \u001B[1;32mwith\u001B[0m \u001B[0mtheir\u001B[0m \u001B[0mpotential\u001B[0m \u001B[0mraises\u001B[0m\u001B[1;33m.\u001B[0m\u001B[1;33m\u001B[0m\u001B[1;33m\u001B[0m\u001B[0m\n\u001B[0;32m   1361\u001B[0m         \"\"\"\n\u001B[1;32m-> 1362\u001B[1;33m         self.handles = get_handle(\n\u001B[0m\u001B[0;32m   1363\u001B[0m             \u001B[0msrc\u001B[0m\u001B[1;33m,\u001B[0m\u001B[1;33m\u001B[0m\u001B[1;33m\u001B[0m\u001B[0m\n\u001B[0;32m   1364\u001B[0m             \u001B[1;34m\"r\"\u001B[0m\u001B[1;33m,\u001B[0m\u001B[1;33m\u001B[0m\u001B[1;33m\u001B[0m\u001B[0m\n",
      "\u001B[1;32mc:\\users\\spencer\\documents\\pytorch\\venv\\lib\\site-packages\\pandas\\io\\common.py\u001B[0m in \u001B[0;36mget_handle\u001B[1;34m(path_or_buf, mode, encoding, compression, memory_map, is_text, errors, storage_options)\u001B[0m\n\u001B[0;32m    640\u001B[0m                 \u001B[0merrors\u001B[0m \u001B[1;33m=\u001B[0m \u001B[1;34m\"replace\"\u001B[0m\u001B[1;33m\u001B[0m\u001B[1;33m\u001B[0m\u001B[0m\n\u001B[0;32m    641\u001B[0m             \u001B[1;31m# Encoding\u001B[0m\u001B[1;33m\u001B[0m\u001B[1;33m\u001B[0m\u001B[1;33m\u001B[0m\u001B[0m\n\u001B[1;32m--> 642\u001B[1;33m             handle = open(\n\u001B[0m\u001B[0;32m    643\u001B[0m                 \u001B[0mhandle\u001B[0m\u001B[1;33m,\u001B[0m\u001B[1;33m\u001B[0m\u001B[1;33m\u001B[0m\u001B[0m\n\u001B[0;32m    644\u001B[0m                 \u001B[0mioargs\u001B[0m\u001B[1;33m.\u001B[0m\u001B[0mmode\u001B[0m\u001B[1;33m,\u001B[0m\u001B[1;33m\u001B[0m\u001B[1;33m\u001B[0m\u001B[0m\n",
      "\u001B[1;31mFileNotFoundError\u001B[0m: [Errno 2] No such file or directory: './checkpoints/URL_LSTM/21-07-2021_20-56/Spam_Samples_21-07-2021_23-07.csv'"
     ]
    }
   ],
   "source": [
    "df = pd.read_csv('./checkpoints/URL_LSTM/21-07-2021_20-56/Spam_Samples_21-07-2021_23-07.csv')\n",
    "print(df.value_counts())\n",
    "df = df.drop_duplicates(keep='first')\n",
    "print(df.value_counts())"
   ],
   "metadata": {
    "collapsed": false,
    "pycharm": {
     "name": "#%%\n"
    }
   }
  }
 ],
 "metadata": {
  "kernelspec": {
   "display_name": "Python 3",
   "language": "python",
   "name": "python3"
  },
  "language_info": {
   "codemirror_mode": {
    "name": "ipython",
    "version": 2
   },
   "file_extension": ".py",
   "mimetype": "text/x-python",
   "name": "python",
   "nbconvert_exporter": "python",
   "pygments_lexer": "ipython2",
   "version": "2.7.6"
  }
 },
 "nbformat": 4,
 "nbformat_minor": 0
}